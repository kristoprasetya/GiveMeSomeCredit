{
 "cells": [
  {
   "cell_type": "code",
   "execution_count": 1,
   "id": "417a5125",
   "metadata": {
    "execution": {
     "iopub.execute_input": "2022-12-13T14:51:55.554220Z",
     "iopub.status.busy": "2022-12-13T14:51:55.553428Z",
     "iopub.status.idle": "2022-12-13T14:51:55.569845Z",
     "shell.execute_reply": "2022-12-13T14:51:55.568866Z"
    },
    "papermill": {
     "duration": 0.038599,
     "end_time": "2022-12-13T14:51:55.572539",
     "exception": false,
     "start_time": "2022-12-13T14:51:55.533940",
     "status": "completed"
    },
    "tags": []
   },
   "outputs": [
    {
     "name": "stdout",
     "output_type": "stream",
     "text": [
      "/kaggle/input/GiveMeSomeCredit/Data Dictionary.xls\n",
      "/kaggle/input/GiveMeSomeCredit/cs-training.csv\n",
      "/kaggle/input/GiveMeSomeCredit/sampleEntry.csv\n",
      "/kaggle/input/GiveMeSomeCredit/cs-test.csv\n"
     ]
    }
   ],
   "source": [
    "# This Python 3 environment comes with many helpful analytics libraries installed\n",
    "# It is defined by the kaggle/python Docker image: https://github.com/kaggle/docker-python\n",
    "# For example, here's several helpful packages to load\n",
    "\n",
    "import numpy as np # linear algebra\n",
    "import pandas as pd # data processing, CSV file I/O (e.g. pd.read_csv)\n",
    "import matplotlib.pyplot as plt\n",
    "# Input data files are available in the read-only \"../input/\" directory\n",
    "# For example, running this (by clicking run or pressing Shift+Enter) will list all files under the input directory\n",
    "\n",
    "import os\n",
    "for dirname, _, filenames in os.walk('/kaggle/input'):\n",
    "    for filename in filenames:\n",
    "        print(os.path.join(dirname, filename))\n",
    "\n",
    "# You can write up to 20GB to the current directory (/kaggle/working/) that gets preserved as output when you create a version using \"Save & Run All\" \n",
    "# You can also write temporary files to /kaggle/temp/, but they won't be saved outside of the current session"
   ]
  },
  {
   "cell_type": "code",
   "execution_count": 2,
   "id": "611c7324",
   "metadata": {
    "execution": {
     "iopub.execute_input": "2022-12-13T14:51:55.595223Z",
     "iopub.status.busy": "2022-12-13T14:51:55.594705Z",
     "iopub.status.idle": "2022-12-13T14:51:56.206537Z",
     "shell.execute_reply": "2022-12-13T14:51:56.205495Z"
    },
    "papermill": {
     "duration": 0.626089,
     "end_time": "2022-12-13T14:51:56.209121",
     "exception": false,
     "start_time": "2022-12-13T14:51:55.583032",
     "status": "completed"
    },
    "tags": []
   },
   "outputs": [],
   "source": [
    "#import dataset\n",
    "import pandas as pd\n",
    "\n",
    "#train-data : untuk melakukan training \n",
    "#test-data : test (80% train, 20% test)\n",
    "#sample-entry : sample\n",
    "\n",
    "train_data = pd.read_csv(\"/kaggle/input/GiveMeSomeCredit/cs-training.csv\", index_col=0) \n",
    "test_data  = pd.read_csv(\"/kaggle/input/GiveMeSomeCredit/cs-test.csv\", index_col=0)\n",
    "sample_data = pd.read_csv('/kaggle/input/GiveMeSomeCredit/sampleEntry.csv', index_col=0)"
   ]
  },
  {
   "cell_type": "code",
   "execution_count": 3,
   "id": "e04cb956",
   "metadata": {
    "execution": {
     "iopub.execute_input": "2022-12-13T14:51:56.235609Z",
     "iopub.status.busy": "2022-12-13T14:51:56.234507Z",
     "iopub.status.idle": "2022-12-13T14:51:56.270606Z",
     "shell.execute_reply": "2022-12-13T14:51:56.269182Z"
    },
    "papermill": {
     "duration": 0.053298,
     "end_time": "2022-12-13T14:51:56.274024",
     "exception": false,
     "start_time": "2022-12-13T14:51:56.220726",
     "status": "completed"
    },
    "tags": []
   },
   "outputs": [
    {
     "data": {
      "text/html": [
       "<div>\n",
       "<style scoped>\n",
       "    .dataframe tbody tr th:only-of-type {\n",
       "        vertical-align: middle;\n",
       "    }\n",
       "\n",
       "    .dataframe tbody tr th {\n",
       "        vertical-align: top;\n",
       "    }\n",
       "\n",
       "    .dataframe thead th {\n",
       "        text-align: right;\n",
       "    }\n",
       "</style>\n",
       "<table border=\"1\" class=\"dataframe\">\n",
       "  <thead>\n",
       "    <tr style=\"text-align: right;\">\n",
       "      <th></th>\n",
       "      <th>SeriousDlqin2yrs</th>\n",
       "      <th>RevolvingUtilizationOfUnsecuredLines</th>\n",
       "      <th>age</th>\n",
       "      <th>NumberOfTime30-59DaysPastDueNotWorse</th>\n",
       "      <th>DebtRatio</th>\n",
       "      <th>MonthlyIncome</th>\n",
       "      <th>NumberOfOpenCreditLinesAndLoans</th>\n",
       "      <th>NumberOfTimes90DaysLate</th>\n",
       "      <th>NumberRealEstateLoansOrLines</th>\n",
       "      <th>NumberOfTime60-89DaysPastDueNotWorse</th>\n",
       "      <th>NumberOfDependents</th>\n",
       "    </tr>\n",
       "  </thead>\n",
       "  <tbody>\n",
       "    <tr>\n",
       "      <th>1</th>\n",
       "      <td>1</td>\n",
       "      <td>0.766127</td>\n",
       "      <td>45</td>\n",
       "      <td>2</td>\n",
       "      <td>0.802982</td>\n",
       "      <td>9120.0</td>\n",
       "      <td>13</td>\n",
       "      <td>0</td>\n",
       "      <td>6</td>\n",
       "      <td>0</td>\n",
       "      <td>2.0</td>\n",
       "    </tr>\n",
       "    <tr>\n",
       "      <th>2</th>\n",
       "      <td>0</td>\n",
       "      <td>0.957151</td>\n",
       "      <td>40</td>\n",
       "      <td>0</td>\n",
       "      <td>0.121876</td>\n",
       "      <td>2600.0</td>\n",
       "      <td>4</td>\n",
       "      <td>0</td>\n",
       "      <td>0</td>\n",
       "      <td>0</td>\n",
       "      <td>1.0</td>\n",
       "    </tr>\n",
       "    <tr>\n",
       "      <th>3</th>\n",
       "      <td>0</td>\n",
       "      <td>0.658180</td>\n",
       "      <td>38</td>\n",
       "      <td>1</td>\n",
       "      <td>0.085113</td>\n",
       "      <td>3042.0</td>\n",
       "      <td>2</td>\n",
       "      <td>1</td>\n",
       "      <td>0</td>\n",
       "      <td>0</td>\n",
       "      <td>0.0</td>\n",
       "    </tr>\n",
       "    <tr>\n",
       "      <th>4</th>\n",
       "      <td>0</td>\n",
       "      <td>0.233810</td>\n",
       "      <td>30</td>\n",
       "      <td>0</td>\n",
       "      <td>0.036050</td>\n",
       "      <td>3300.0</td>\n",
       "      <td>5</td>\n",
       "      <td>0</td>\n",
       "      <td>0</td>\n",
       "      <td>0</td>\n",
       "      <td>0.0</td>\n",
       "    </tr>\n",
       "    <tr>\n",
       "      <th>5</th>\n",
       "      <td>0</td>\n",
       "      <td>0.907239</td>\n",
       "      <td>49</td>\n",
       "      <td>1</td>\n",
       "      <td>0.024926</td>\n",
       "      <td>63588.0</td>\n",
       "      <td>7</td>\n",
       "      <td>0</td>\n",
       "      <td>1</td>\n",
       "      <td>0</td>\n",
       "      <td>0.0</td>\n",
       "    </tr>\n",
       "    <tr>\n",
       "      <th>...</th>\n",
       "      <td>...</td>\n",
       "      <td>...</td>\n",
       "      <td>...</td>\n",
       "      <td>...</td>\n",
       "      <td>...</td>\n",
       "      <td>...</td>\n",
       "      <td>...</td>\n",
       "      <td>...</td>\n",
       "      <td>...</td>\n",
       "      <td>...</td>\n",
       "      <td>...</td>\n",
       "    </tr>\n",
       "    <tr>\n",
       "      <th>149996</th>\n",
       "      <td>0</td>\n",
       "      <td>0.040674</td>\n",
       "      <td>74</td>\n",
       "      <td>0</td>\n",
       "      <td>0.225131</td>\n",
       "      <td>2100.0</td>\n",
       "      <td>4</td>\n",
       "      <td>0</td>\n",
       "      <td>1</td>\n",
       "      <td>0</td>\n",
       "      <td>0.0</td>\n",
       "    </tr>\n",
       "    <tr>\n",
       "      <th>149997</th>\n",
       "      <td>0</td>\n",
       "      <td>0.299745</td>\n",
       "      <td>44</td>\n",
       "      <td>0</td>\n",
       "      <td>0.716562</td>\n",
       "      <td>5584.0</td>\n",
       "      <td>4</td>\n",
       "      <td>0</td>\n",
       "      <td>1</td>\n",
       "      <td>0</td>\n",
       "      <td>2.0</td>\n",
       "    </tr>\n",
       "    <tr>\n",
       "      <th>149998</th>\n",
       "      <td>0</td>\n",
       "      <td>0.246044</td>\n",
       "      <td>58</td>\n",
       "      <td>0</td>\n",
       "      <td>3870.000000</td>\n",
       "      <td>NaN</td>\n",
       "      <td>18</td>\n",
       "      <td>0</td>\n",
       "      <td>1</td>\n",
       "      <td>0</td>\n",
       "      <td>0.0</td>\n",
       "    </tr>\n",
       "    <tr>\n",
       "      <th>149999</th>\n",
       "      <td>0</td>\n",
       "      <td>0.000000</td>\n",
       "      <td>30</td>\n",
       "      <td>0</td>\n",
       "      <td>0.000000</td>\n",
       "      <td>5716.0</td>\n",
       "      <td>4</td>\n",
       "      <td>0</td>\n",
       "      <td>0</td>\n",
       "      <td>0</td>\n",
       "      <td>0.0</td>\n",
       "    </tr>\n",
       "    <tr>\n",
       "      <th>150000</th>\n",
       "      <td>0</td>\n",
       "      <td>0.850283</td>\n",
       "      <td>64</td>\n",
       "      <td>0</td>\n",
       "      <td>0.249908</td>\n",
       "      <td>8158.0</td>\n",
       "      <td>8</td>\n",
       "      <td>0</td>\n",
       "      <td>2</td>\n",
       "      <td>0</td>\n",
       "      <td>0.0</td>\n",
       "    </tr>\n",
       "  </tbody>\n",
       "</table>\n",
       "<p>150000 rows × 11 columns</p>\n",
       "</div>"
      ],
      "text/plain": [
       "        SeriousDlqin2yrs  RevolvingUtilizationOfUnsecuredLines  age  \\\n",
       "1                      1                              0.766127   45   \n",
       "2                      0                              0.957151   40   \n",
       "3                      0                              0.658180   38   \n",
       "4                      0                              0.233810   30   \n",
       "5                      0                              0.907239   49   \n",
       "...                  ...                                   ...  ...   \n",
       "149996                 0                              0.040674   74   \n",
       "149997                 0                              0.299745   44   \n",
       "149998                 0                              0.246044   58   \n",
       "149999                 0                              0.000000   30   \n",
       "150000                 0                              0.850283   64   \n",
       "\n",
       "        NumberOfTime30-59DaysPastDueNotWorse    DebtRatio  MonthlyIncome  \\\n",
       "1                                          2     0.802982         9120.0   \n",
       "2                                          0     0.121876         2600.0   \n",
       "3                                          1     0.085113         3042.0   \n",
       "4                                          0     0.036050         3300.0   \n",
       "5                                          1     0.024926        63588.0   \n",
       "...                                      ...          ...            ...   \n",
       "149996                                     0     0.225131         2100.0   \n",
       "149997                                     0     0.716562         5584.0   \n",
       "149998                                     0  3870.000000            NaN   \n",
       "149999                                     0     0.000000         5716.0   \n",
       "150000                                     0     0.249908         8158.0   \n",
       "\n",
       "        NumberOfOpenCreditLinesAndLoans  NumberOfTimes90DaysLate  \\\n",
       "1                                    13                        0   \n",
       "2                                     4                        0   \n",
       "3                                     2                        1   \n",
       "4                                     5                        0   \n",
       "5                                     7                        0   \n",
       "...                                 ...                      ...   \n",
       "149996                                4                        0   \n",
       "149997                                4                        0   \n",
       "149998                               18                        0   \n",
       "149999                                4                        0   \n",
       "150000                                8                        0   \n",
       "\n",
       "        NumberRealEstateLoansOrLines  NumberOfTime60-89DaysPastDueNotWorse  \\\n",
       "1                                  6                                     0   \n",
       "2                                  0                                     0   \n",
       "3                                  0                                     0   \n",
       "4                                  0                                     0   \n",
       "5                                  1                                     0   \n",
       "...                              ...                                   ...   \n",
       "149996                             1                                     0   \n",
       "149997                             1                                     0   \n",
       "149998                             1                                     0   \n",
       "149999                             0                                     0   \n",
       "150000                             2                                     0   \n",
       "\n",
       "        NumberOfDependents  \n",
       "1                      2.0  \n",
       "2                      1.0  \n",
       "3                      0.0  \n",
       "4                      0.0  \n",
       "5                      0.0  \n",
       "...                    ...  \n",
       "149996                 0.0  \n",
       "149997                 2.0  \n",
       "149998                 0.0  \n",
       "149999                 0.0  \n",
       "150000                 0.0  \n",
       "\n",
       "[150000 rows x 11 columns]"
      ]
     },
     "execution_count": 3,
     "metadata": {},
     "output_type": "execute_result"
    }
   ],
   "source": [
    "train_data"
   ]
  },
  {
   "cell_type": "code",
   "execution_count": 4,
   "id": "624567a5",
   "metadata": {
    "execution": {
     "iopub.execute_input": "2022-12-13T14:51:56.299780Z",
     "iopub.status.busy": "2022-12-13T14:51:56.299379Z",
     "iopub.status.idle": "2022-12-13T14:51:56.323252Z",
     "shell.execute_reply": "2022-12-13T14:51:56.322077Z"
    },
    "papermill": {
     "duration": 0.039625,
     "end_time": "2022-12-13T14:51:56.326001",
     "exception": false,
     "start_time": "2022-12-13T14:51:56.286376",
     "status": "completed"
    },
    "tags": []
   },
   "outputs": [
    {
     "data": {
      "text/html": [
       "<div>\n",
       "<style scoped>\n",
       "    .dataframe tbody tr th:only-of-type {\n",
       "        vertical-align: middle;\n",
       "    }\n",
       "\n",
       "    .dataframe tbody tr th {\n",
       "        vertical-align: top;\n",
       "    }\n",
       "\n",
       "    .dataframe thead th {\n",
       "        text-align: right;\n",
       "    }\n",
       "</style>\n",
       "<table border=\"1\" class=\"dataframe\">\n",
       "  <thead>\n",
       "    <tr style=\"text-align: right;\">\n",
       "      <th></th>\n",
       "      <th>SeriousDlqin2yrs</th>\n",
       "      <th>RevolvingUtilizationOfUnsecuredLines</th>\n",
       "      <th>age</th>\n",
       "      <th>NumberOfTime30-59DaysPastDueNotWorse</th>\n",
       "      <th>DebtRatio</th>\n",
       "      <th>MonthlyIncome</th>\n",
       "      <th>NumberOfOpenCreditLinesAndLoans</th>\n",
       "      <th>NumberOfTimes90DaysLate</th>\n",
       "      <th>NumberRealEstateLoansOrLines</th>\n",
       "      <th>NumberOfTime60-89DaysPastDueNotWorse</th>\n",
       "      <th>NumberOfDependents</th>\n",
       "    </tr>\n",
       "  </thead>\n",
       "  <tbody>\n",
       "    <tr>\n",
       "      <th>1</th>\n",
       "      <td>NaN</td>\n",
       "      <td>0.885519</td>\n",
       "      <td>43</td>\n",
       "      <td>0</td>\n",
       "      <td>0.177513</td>\n",
       "      <td>5700.0</td>\n",
       "      <td>4</td>\n",
       "      <td>0</td>\n",
       "      <td>0</td>\n",
       "      <td>0</td>\n",
       "      <td>0.0</td>\n",
       "    </tr>\n",
       "    <tr>\n",
       "      <th>2</th>\n",
       "      <td>NaN</td>\n",
       "      <td>0.463295</td>\n",
       "      <td>57</td>\n",
       "      <td>0</td>\n",
       "      <td>0.527237</td>\n",
       "      <td>9141.0</td>\n",
       "      <td>15</td>\n",
       "      <td>0</td>\n",
       "      <td>4</td>\n",
       "      <td>0</td>\n",
       "      <td>2.0</td>\n",
       "    </tr>\n",
       "    <tr>\n",
       "      <th>3</th>\n",
       "      <td>NaN</td>\n",
       "      <td>0.043275</td>\n",
       "      <td>59</td>\n",
       "      <td>0</td>\n",
       "      <td>0.687648</td>\n",
       "      <td>5083.0</td>\n",
       "      <td>12</td>\n",
       "      <td>0</td>\n",
       "      <td>1</td>\n",
       "      <td>0</td>\n",
       "      <td>2.0</td>\n",
       "    </tr>\n",
       "    <tr>\n",
       "      <th>4</th>\n",
       "      <td>NaN</td>\n",
       "      <td>0.280308</td>\n",
       "      <td>38</td>\n",
       "      <td>1</td>\n",
       "      <td>0.925961</td>\n",
       "      <td>3200.0</td>\n",
       "      <td>7</td>\n",
       "      <td>0</td>\n",
       "      <td>2</td>\n",
       "      <td>0</td>\n",
       "      <td>0.0</td>\n",
       "    </tr>\n",
       "    <tr>\n",
       "      <th>5</th>\n",
       "      <td>NaN</td>\n",
       "      <td>1.000000</td>\n",
       "      <td>27</td>\n",
       "      <td>0</td>\n",
       "      <td>0.019917</td>\n",
       "      <td>3865.0</td>\n",
       "      <td>4</td>\n",
       "      <td>0</td>\n",
       "      <td>0</td>\n",
       "      <td>0</td>\n",
       "      <td>1.0</td>\n",
       "    </tr>\n",
       "    <tr>\n",
       "      <th>...</th>\n",
       "      <td>...</td>\n",
       "      <td>...</td>\n",
       "      <td>...</td>\n",
       "      <td>...</td>\n",
       "      <td>...</td>\n",
       "      <td>...</td>\n",
       "      <td>...</td>\n",
       "      <td>...</td>\n",
       "      <td>...</td>\n",
       "      <td>...</td>\n",
       "      <td>...</td>\n",
       "    </tr>\n",
       "    <tr>\n",
       "      <th>101499</th>\n",
       "      <td>NaN</td>\n",
       "      <td>0.282653</td>\n",
       "      <td>24</td>\n",
       "      <td>0</td>\n",
       "      <td>0.068522</td>\n",
       "      <td>1400.0</td>\n",
       "      <td>5</td>\n",
       "      <td>0</td>\n",
       "      <td>0</td>\n",
       "      <td>0</td>\n",
       "      <td>0.0</td>\n",
       "    </tr>\n",
       "    <tr>\n",
       "      <th>101500</th>\n",
       "      <td>NaN</td>\n",
       "      <td>0.922156</td>\n",
       "      <td>36</td>\n",
       "      <td>3</td>\n",
       "      <td>0.934217</td>\n",
       "      <td>7615.0</td>\n",
       "      <td>8</td>\n",
       "      <td>0</td>\n",
       "      <td>2</td>\n",
       "      <td>0</td>\n",
       "      <td>4.0</td>\n",
       "    </tr>\n",
       "    <tr>\n",
       "      <th>101501</th>\n",
       "      <td>NaN</td>\n",
       "      <td>0.081596</td>\n",
       "      <td>70</td>\n",
       "      <td>0</td>\n",
       "      <td>836.000000</td>\n",
       "      <td>NaN</td>\n",
       "      <td>3</td>\n",
       "      <td>0</td>\n",
       "      <td>0</td>\n",
       "      <td>0</td>\n",
       "      <td>NaN</td>\n",
       "    </tr>\n",
       "    <tr>\n",
       "      <th>101502</th>\n",
       "      <td>NaN</td>\n",
       "      <td>0.335457</td>\n",
       "      <td>56</td>\n",
       "      <td>0</td>\n",
       "      <td>3568.000000</td>\n",
       "      <td>NaN</td>\n",
       "      <td>8</td>\n",
       "      <td>0</td>\n",
       "      <td>2</td>\n",
       "      <td>1</td>\n",
       "      <td>3.0</td>\n",
       "    </tr>\n",
       "    <tr>\n",
       "      <th>101503</th>\n",
       "      <td>NaN</td>\n",
       "      <td>0.441842</td>\n",
       "      <td>29</td>\n",
       "      <td>0</td>\n",
       "      <td>0.198918</td>\n",
       "      <td>5916.0</td>\n",
       "      <td>12</td>\n",
       "      <td>0</td>\n",
       "      <td>0</td>\n",
       "      <td>0</td>\n",
       "      <td>0.0</td>\n",
       "    </tr>\n",
       "  </tbody>\n",
       "</table>\n",
       "<p>101503 rows × 11 columns</p>\n",
       "</div>"
      ],
      "text/plain": [
       "        SeriousDlqin2yrs  RevolvingUtilizationOfUnsecuredLines  age  \\\n",
       "1                    NaN                              0.885519   43   \n",
       "2                    NaN                              0.463295   57   \n",
       "3                    NaN                              0.043275   59   \n",
       "4                    NaN                              0.280308   38   \n",
       "5                    NaN                              1.000000   27   \n",
       "...                  ...                                   ...  ...   \n",
       "101499               NaN                              0.282653   24   \n",
       "101500               NaN                              0.922156   36   \n",
       "101501               NaN                              0.081596   70   \n",
       "101502               NaN                              0.335457   56   \n",
       "101503               NaN                              0.441842   29   \n",
       "\n",
       "        NumberOfTime30-59DaysPastDueNotWorse    DebtRatio  MonthlyIncome  \\\n",
       "1                                          0     0.177513         5700.0   \n",
       "2                                          0     0.527237         9141.0   \n",
       "3                                          0     0.687648         5083.0   \n",
       "4                                          1     0.925961         3200.0   \n",
       "5                                          0     0.019917         3865.0   \n",
       "...                                      ...          ...            ...   \n",
       "101499                                     0     0.068522         1400.0   \n",
       "101500                                     3     0.934217         7615.0   \n",
       "101501                                     0   836.000000            NaN   \n",
       "101502                                     0  3568.000000            NaN   \n",
       "101503                                     0     0.198918         5916.0   \n",
       "\n",
       "        NumberOfOpenCreditLinesAndLoans  NumberOfTimes90DaysLate  \\\n",
       "1                                     4                        0   \n",
       "2                                    15                        0   \n",
       "3                                    12                        0   \n",
       "4                                     7                        0   \n",
       "5                                     4                        0   \n",
       "...                                 ...                      ...   \n",
       "101499                                5                        0   \n",
       "101500                                8                        0   \n",
       "101501                                3                        0   \n",
       "101502                                8                        0   \n",
       "101503                               12                        0   \n",
       "\n",
       "        NumberRealEstateLoansOrLines  NumberOfTime60-89DaysPastDueNotWorse  \\\n",
       "1                                  0                                     0   \n",
       "2                                  4                                     0   \n",
       "3                                  1                                     0   \n",
       "4                                  2                                     0   \n",
       "5                                  0                                     0   \n",
       "...                              ...                                   ...   \n",
       "101499                             0                                     0   \n",
       "101500                             2                                     0   \n",
       "101501                             0                                     0   \n",
       "101502                             2                                     1   \n",
       "101503                             0                                     0   \n",
       "\n",
       "        NumberOfDependents  \n",
       "1                      0.0  \n",
       "2                      2.0  \n",
       "3                      2.0  \n",
       "4                      0.0  \n",
       "5                      1.0  \n",
       "...                    ...  \n",
       "101499                 0.0  \n",
       "101500                 4.0  \n",
       "101501                 NaN  \n",
       "101502                 3.0  \n",
       "101503                 0.0  \n",
       "\n",
       "[101503 rows x 11 columns]"
      ]
     },
     "execution_count": 4,
     "metadata": {},
     "output_type": "execute_result"
    }
   ],
   "source": [
    "test_data"
   ]
  },
  {
   "cell_type": "code",
   "execution_count": 5,
   "id": "c3e6e649",
   "metadata": {
    "execution": {
     "iopub.execute_input": "2022-12-13T14:51:56.349835Z",
     "iopub.status.busy": "2022-12-13T14:51:56.349392Z",
     "iopub.status.idle": "2022-12-13T14:51:56.361611Z",
     "shell.execute_reply": "2022-12-13T14:51:56.360656Z"
    },
    "papermill": {
     "duration": 0.0269,
     "end_time": "2022-12-13T14:51:56.363750",
     "exception": false,
     "start_time": "2022-12-13T14:51:56.336850",
     "status": "completed"
    },
    "tags": []
   },
   "outputs": [
    {
     "data": {
      "text/html": [
       "<div>\n",
       "<style scoped>\n",
       "    .dataframe tbody tr th:only-of-type {\n",
       "        vertical-align: middle;\n",
       "    }\n",
       "\n",
       "    .dataframe tbody tr th {\n",
       "        vertical-align: top;\n",
       "    }\n",
       "\n",
       "    .dataframe thead th {\n",
       "        text-align: right;\n",
       "    }\n",
       "</style>\n",
       "<table border=\"1\" class=\"dataframe\">\n",
       "  <thead>\n",
       "    <tr style=\"text-align: right;\">\n",
       "      <th></th>\n",
       "      <th>Probability</th>\n",
       "    </tr>\n",
       "    <tr>\n",
       "      <th>Id</th>\n",
       "      <th></th>\n",
       "    </tr>\n",
       "  </thead>\n",
       "  <tbody>\n",
       "    <tr>\n",
       "      <th>1</th>\n",
       "      <td>0.080807</td>\n",
       "    </tr>\n",
       "    <tr>\n",
       "      <th>2</th>\n",
       "      <td>0.040719</td>\n",
       "    </tr>\n",
       "    <tr>\n",
       "      <th>3</th>\n",
       "      <td>0.011968</td>\n",
       "    </tr>\n",
       "    <tr>\n",
       "      <th>4</th>\n",
       "      <td>0.067640</td>\n",
       "    </tr>\n",
       "    <tr>\n",
       "      <th>5</th>\n",
       "      <td>0.108264</td>\n",
       "    </tr>\n",
       "    <tr>\n",
       "      <th>...</th>\n",
       "      <td>...</td>\n",
       "    </tr>\n",
       "    <tr>\n",
       "      <th>101499</th>\n",
       "      <td>0.045363</td>\n",
       "    </tr>\n",
       "    <tr>\n",
       "      <th>101500</th>\n",
       "      <td>0.343775</td>\n",
       "    </tr>\n",
       "    <tr>\n",
       "      <th>101501</th>\n",
       "      <td>0.006970</td>\n",
       "    </tr>\n",
       "    <tr>\n",
       "      <th>101502</th>\n",
       "      <td>0.121994</td>\n",
       "    </tr>\n",
       "    <tr>\n",
       "      <th>101503</th>\n",
       "      <td>0.044248</td>\n",
       "    </tr>\n",
       "  </tbody>\n",
       "</table>\n",
       "<p>101503 rows × 1 columns</p>\n",
       "</div>"
      ],
      "text/plain": [
       "        Probability\n",
       "Id                 \n",
       "1          0.080807\n",
       "2          0.040719\n",
       "3          0.011968\n",
       "4          0.067640\n",
       "5          0.108264\n",
       "...             ...\n",
       "101499     0.045363\n",
       "101500     0.343775\n",
       "101501     0.006970\n",
       "101502     0.121994\n",
       "101503     0.044248\n",
       "\n",
       "[101503 rows x 1 columns]"
      ]
     },
     "execution_count": 5,
     "metadata": {},
     "output_type": "execute_result"
    }
   ],
   "source": [
    "sample_data"
   ]
  },
  {
   "cell_type": "code",
   "execution_count": 6,
   "id": "59d4ee15",
   "metadata": {
    "execution": {
     "iopub.execute_input": "2022-12-13T14:51:56.387554Z",
     "iopub.status.busy": "2022-12-13T14:51:56.386525Z",
     "iopub.status.idle": "2022-12-13T14:51:56.430059Z",
     "shell.execute_reply": "2022-12-13T14:51:56.428675Z"
    },
    "papermill": {
     "duration": 0.058275,
     "end_time": "2022-12-13T14:51:56.432806",
     "exception": false,
     "start_time": "2022-12-13T14:51:56.374531",
     "status": "completed"
    },
    "tags": []
   },
   "outputs": [
    {
     "data": {
      "text/plain": [
       "SeriousDlqin2yrs                             2\n",
       "RevolvingUtilizationOfUnsecuredLines    125728\n",
       "age                                         86\n",
       "NumberOfTime30-59DaysPastDueNotWorse        16\n",
       "DebtRatio                               114194\n",
       "MonthlyIncome                            13594\n",
       "NumberOfOpenCreditLinesAndLoans             58\n",
       "NumberOfTimes90DaysLate                     19\n",
       "NumberRealEstateLoansOrLines                28\n",
       "NumberOfTime60-89DaysPastDueNotWorse        13\n",
       "NumberOfDependents                          13\n",
       "dtype: int64"
      ]
     },
     "execution_count": 6,
     "metadata": {},
     "output_type": "execute_result"
    }
   ],
   "source": [
    "train_data.nunique()"
   ]
  },
  {
   "cell_type": "code",
   "execution_count": 7,
   "id": "8b8e7a64",
   "metadata": {
    "execution": {
     "iopub.execute_input": "2022-12-13T14:51:56.458529Z",
     "iopub.status.busy": "2022-12-13T14:51:56.458085Z",
     "iopub.status.idle": "2022-12-13T14:51:56.487526Z",
     "shell.execute_reply": "2022-12-13T14:51:56.485625Z"
    },
    "papermill": {
     "duration": 0.046428,
     "end_time": "2022-12-13T14:51:56.490666",
     "exception": false,
     "start_time": "2022-12-13T14:51:56.444238",
     "status": "completed"
    },
    "tags": []
   },
   "outputs": [
    {
     "data": {
      "text/plain": [
       "SeriousDlqin2yrs                            0\n",
       "RevolvingUtilizationOfUnsecuredLines    85716\n",
       "age                                        82\n",
       "NumberOfTime30-59DaysPastDueNotWorse       16\n",
       "DebtRatio                               79878\n",
       "MonthlyIncome                           11976\n",
       "NumberOfOpenCreditLinesAndLoans            56\n",
       "NumberOfTimes90DaysLate                    18\n",
       "NumberRealEstateLoansOrLines               24\n",
       "NumberOfTime60-89DaysPastDueNotWorse       12\n",
       "NumberOfDependents                         13\n",
       "dtype: int64"
      ]
     },
     "execution_count": 7,
     "metadata": {},
     "output_type": "execute_result"
    }
   ],
   "source": [
    "test_data.nunique()"
   ]
  },
  {
   "cell_type": "code",
   "execution_count": 8,
   "id": "e8af507e",
   "metadata": {
    "execution": {
     "iopub.execute_input": "2022-12-13T14:51:56.515709Z",
     "iopub.status.busy": "2022-12-13T14:51:56.514656Z",
     "iopub.status.idle": "2022-12-13T14:51:56.536949Z",
     "shell.execute_reply": "2022-12-13T14:51:56.535358Z"
    },
    "papermill": {
     "duration": 0.037818,
     "end_time": "2022-12-13T14:51:56.539969",
     "exception": false,
     "start_time": "2022-12-13T14:51:56.502151",
     "status": "completed"
    },
    "tags": []
   },
   "outputs": [
    {
     "name": "stdout",
     "output_type": "stream",
     "text": [
      "<class 'pandas.core.frame.DataFrame'>\n",
      "Int64Index: 101503 entries, 1 to 101503\n",
      "Data columns (total 11 columns):\n",
      " #   Column                                Non-Null Count   Dtype  \n",
      "---  ------                                --------------   -----  \n",
      " 0   SeriousDlqin2yrs                      0 non-null       float64\n",
      " 1   RevolvingUtilizationOfUnsecuredLines  101503 non-null  float64\n",
      " 2   age                                   101503 non-null  int64  \n",
      " 3   NumberOfTime30-59DaysPastDueNotWorse  101503 non-null  int64  \n",
      " 4   DebtRatio                             101503 non-null  float64\n",
      " 5   MonthlyIncome                         81400 non-null   float64\n",
      " 6   NumberOfOpenCreditLinesAndLoans       101503 non-null  int64  \n",
      " 7   NumberOfTimes90DaysLate               101503 non-null  int64  \n",
      " 8   NumberRealEstateLoansOrLines          101503 non-null  int64  \n",
      " 9   NumberOfTime60-89DaysPastDueNotWorse  101503 non-null  int64  \n",
      " 10  NumberOfDependents                    98877 non-null   float64\n",
      "dtypes: float64(5), int64(6)\n",
      "memory usage: 9.3 MB\n"
     ]
    }
   ],
   "source": [
    "test_data.info()"
   ]
  },
  {
   "cell_type": "code",
   "execution_count": 9,
   "id": "4818d78e",
   "metadata": {
    "execution": {
     "iopub.execute_input": "2022-12-13T14:51:56.565250Z",
     "iopub.status.busy": "2022-12-13T14:51:56.564777Z",
     "iopub.status.idle": "2022-12-13T14:51:56.584496Z",
     "shell.execute_reply": "2022-12-13T14:51:56.583231Z"
    },
    "papermill": {
     "duration": 0.035423,
     "end_time": "2022-12-13T14:51:56.587098",
     "exception": false,
     "start_time": "2022-12-13T14:51:56.551675",
     "status": "completed"
    },
    "tags": []
   },
   "outputs": [
    {
     "data": {
      "text/html": [
       "<div>\n",
       "<style scoped>\n",
       "    .dataframe tbody tr th:only-of-type {\n",
       "        vertical-align: middle;\n",
       "    }\n",
       "\n",
       "    .dataframe tbody tr th {\n",
       "        vertical-align: top;\n",
       "    }\n",
       "\n",
       "    .dataframe thead th {\n",
       "        text-align: right;\n",
       "    }\n",
       "</style>\n",
       "<table border=\"1\" class=\"dataframe\">\n",
       "  <thead>\n",
       "    <tr style=\"text-align: right;\">\n",
       "      <th></th>\n",
       "      <th>SeriousDlqin2yrs</th>\n",
       "      <th>RevolvingUtilizationOfUnsecuredLines</th>\n",
       "      <th>age</th>\n",
       "      <th>NumberOfTime30-59DaysPastDueNotWorse</th>\n",
       "      <th>DebtRatio</th>\n",
       "      <th>MonthlyIncome</th>\n",
       "      <th>NumberOfOpenCreditLinesAndLoans</th>\n",
       "      <th>NumberOfTimes90DaysLate</th>\n",
       "      <th>NumberRealEstateLoansOrLines</th>\n",
       "      <th>NumberOfTime60-89DaysPastDueNotWorse</th>\n",
       "      <th>NumberOfDependents</th>\n",
       "    </tr>\n",
       "  </thead>\n",
       "  <tbody>\n",
       "    <tr>\n",
       "      <th>1</th>\n",
       "      <td>NaN</td>\n",
       "      <td>0.885519</td>\n",
       "      <td>43</td>\n",
       "      <td>0</td>\n",
       "      <td>0.177513</td>\n",
       "      <td>5700.0</td>\n",
       "      <td>4</td>\n",
       "      <td>0</td>\n",
       "      <td>0</td>\n",
       "      <td>0</td>\n",
       "      <td>0.0</td>\n",
       "    </tr>\n",
       "    <tr>\n",
       "      <th>2</th>\n",
       "      <td>NaN</td>\n",
       "      <td>0.463295</td>\n",
       "      <td>57</td>\n",
       "      <td>0</td>\n",
       "      <td>0.527237</td>\n",
       "      <td>9141.0</td>\n",
       "      <td>15</td>\n",
       "      <td>0</td>\n",
       "      <td>4</td>\n",
       "      <td>0</td>\n",
       "      <td>2.0</td>\n",
       "    </tr>\n",
       "    <tr>\n",
       "      <th>3</th>\n",
       "      <td>NaN</td>\n",
       "      <td>0.043275</td>\n",
       "      <td>59</td>\n",
       "      <td>0</td>\n",
       "      <td>0.687648</td>\n",
       "      <td>5083.0</td>\n",
       "      <td>12</td>\n",
       "      <td>0</td>\n",
       "      <td>1</td>\n",
       "      <td>0</td>\n",
       "      <td>2.0</td>\n",
       "    </tr>\n",
       "    <tr>\n",
       "      <th>4</th>\n",
       "      <td>NaN</td>\n",
       "      <td>0.280308</td>\n",
       "      <td>38</td>\n",
       "      <td>1</td>\n",
       "      <td>0.925961</td>\n",
       "      <td>3200.0</td>\n",
       "      <td>7</td>\n",
       "      <td>0</td>\n",
       "      <td>2</td>\n",
       "      <td>0</td>\n",
       "      <td>0.0</td>\n",
       "    </tr>\n",
       "    <tr>\n",
       "      <th>5</th>\n",
       "      <td>NaN</td>\n",
       "      <td>1.000000</td>\n",
       "      <td>27</td>\n",
       "      <td>0</td>\n",
       "      <td>0.019917</td>\n",
       "      <td>3865.0</td>\n",
       "      <td>4</td>\n",
       "      <td>0</td>\n",
       "      <td>0</td>\n",
       "      <td>0</td>\n",
       "      <td>1.0</td>\n",
       "    </tr>\n",
       "  </tbody>\n",
       "</table>\n",
       "</div>"
      ],
      "text/plain": [
       "   SeriousDlqin2yrs  RevolvingUtilizationOfUnsecuredLines  age  \\\n",
       "1               NaN                              0.885519   43   \n",
       "2               NaN                              0.463295   57   \n",
       "3               NaN                              0.043275   59   \n",
       "4               NaN                              0.280308   38   \n",
       "5               NaN                              1.000000   27   \n",
       "\n",
       "   NumberOfTime30-59DaysPastDueNotWorse  DebtRatio  MonthlyIncome  \\\n",
       "1                                     0   0.177513         5700.0   \n",
       "2                                     0   0.527237         9141.0   \n",
       "3                                     0   0.687648         5083.0   \n",
       "4                                     1   0.925961         3200.0   \n",
       "5                                     0   0.019917         3865.0   \n",
       "\n",
       "   NumberOfOpenCreditLinesAndLoans  NumberOfTimes90DaysLate  \\\n",
       "1                                4                        0   \n",
       "2                               15                        0   \n",
       "3                               12                        0   \n",
       "4                                7                        0   \n",
       "5                                4                        0   \n",
       "\n",
       "   NumberRealEstateLoansOrLines  NumberOfTime60-89DaysPastDueNotWorse  \\\n",
       "1                             0                                     0   \n",
       "2                             4                                     0   \n",
       "3                             1                                     0   \n",
       "4                             2                                     0   \n",
       "5                             0                                     0   \n",
       "\n",
       "   NumberOfDependents  \n",
       "1                 0.0  \n",
       "2                 2.0  \n",
       "3                 2.0  \n",
       "4                 0.0  \n",
       "5                 1.0  "
      ]
     },
     "execution_count": 9,
     "metadata": {},
     "output_type": "execute_result"
    }
   ],
   "source": [
    "test_data.head()"
   ]
  },
  {
   "cell_type": "code",
   "execution_count": 10,
   "id": "58ef9356",
   "metadata": {
    "execution": {
     "iopub.execute_input": "2022-12-13T14:51:56.613078Z",
     "iopub.status.busy": "2022-12-13T14:51:56.612031Z",
     "iopub.status.idle": "2022-12-13T14:51:56.629822Z",
     "shell.execute_reply": "2022-12-13T14:51:56.628494Z"
    },
    "papermill": {
     "duration": 0.03329,
     "end_time": "2022-12-13T14:51:56.632427",
     "exception": false,
     "start_time": "2022-12-13T14:51:56.599137",
     "status": "completed"
    },
    "tags": []
   },
   "outputs": [
    {
     "data": {
      "text/html": [
       "<div>\n",
       "<style scoped>\n",
       "    .dataframe tbody tr th:only-of-type {\n",
       "        vertical-align: middle;\n",
       "    }\n",
       "\n",
       "    .dataframe tbody tr th {\n",
       "        vertical-align: top;\n",
       "    }\n",
       "\n",
       "    .dataframe thead th {\n",
       "        text-align: right;\n",
       "    }\n",
       "</style>\n",
       "<table border=\"1\" class=\"dataframe\">\n",
       "  <thead>\n",
       "    <tr style=\"text-align: right;\">\n",
       "      <th></th>\n",
       "      <th>SeriousDlqin2yrs</th>\n",
       "      <th>RevolvingUtilizationOfUnsecuredLines</th>\n",
       "      <th>age</th>\n",
       "      <th>NumberOfTime30-59DaysPastDueNotWorse</th>\n",
       "      <th>DebtRatio</th>\n",
       "      <th>MonthlyIncome</th>\n",
       "      <th>NumberOfOpenCreditLinesAndLoans</th>\n",
       "      <th>NumberOfTimes90DaysLate</th>\n",
       "      <th>NumberRealEstateLoansOrLines</th>\n",
       "      <th>NumberOfTime60-89DaysPastDueNotWorse</th>\n",
       "      <th>NumberOfDependents</th>\n",
       "    </tr>\n",
       "  </thead>\n",
       "  <tbody>\n",
       "    <tr>\n",
       "      <th>101499</th>\n",
       "      <td>NaN</td>\n",
       "      <td>0.282653</td>\n",
       "      <td>24</td>\n",
       "      <td>0</td>\n",
       "      <td>0.068522</td>\n",
       "      <td>1400.0</td>\n",
       "      <td>5</td>\n",
       "      <td>0</td>\n",
       "      <td>0</td>\n",
       "      <td>0</td>\n",
       "      <td>0.0</td>\n",
       "    </tr>\n",
       "    <tr>\n",
       "      <th>101500</th>\n",
       "      <td>NaN</td>\n",
       "      <td>0.922156</td>\n",
       "      <td>36</td>\n",
       "      <td>3</td>\n",
       "      <td>0.934217</td>\n",
       "      <td>7615.0</td>\n",
       "      <td>8</td>\n",
       "      <td>0</td>\n",
       "      <td>2</td>\n",
       "      <td>0</td>\n",
       "      <td>4.0</td>\n",
       "    </tr>\n",
       "    <tr>\n",
       "      <th>101501</th>\n",
       "      <td>NaN</td>\n",
       "      <td>0.081596</td>\n",
       "      <td>70</td>\n",
       "      <td>0</td>\n",
       "      <td>836.000000</td>\n",
       "      <td>NaN</td>\n",
       "      <td>3</td>\n",
       "      <td>0</td>\n",
       "      <td>0</td>\n",
       "      <td>0</td>\n",
       "      <td>NaN</td>\n",
       "    </tr>\n",
       "    <tr>\n",
       "      <th>101502</th>\n",
       "      <td>NaN</td>\n",
       "      <td>0.335457</td>\n",
       "      <td>56</td>\n",
       "      <td>0</td>\n",
       "      <td>3568.000000</td>\n",
       "      <td>NaN</td>\n",
       "      <td>8</td>\n",
       "      <td>0</td>\n",
       "      <td>2</td>\n",
       "      <td>1</td>\n",
       "      <td>3.0</td>\n",
       "    </tr>\n",
       "    <tr>\n",
       "      <th>101503</th>\n",
       "      <td>NaN</td>\n",
       "      <td>0.441842</td>\n",
       "      <td>29</td>\n",
       "      <td>0</td>\n",
       "      <td>0.198918</td>\n",
       "      <td>5916.0</td>\n",
       "      <td>12</td>\n",
       "      <td>0</td>\n",
       "      <td>0</td>\n",
       "      <td>0</td>\n",
       "      <td>0.0</td>\n",
       "    </tr>\n",
       "  </tbody>\n",
       "</table>\n",
       "</div>"
      ],
      "text/plain": [
       "        SeriousDlqin2yrs  RevolvingUtilizationOfUnsecuredLines  age  \\\n",
       "101499               NaN                              0.282653   24   \n",
       "101500               NaN                              0.922156   36   \n",
       "101501               NaN                              0.081596   70   \n",
       "101502               NaN                              0.335457   56   \n",
       "101503               NaN                              0.441842   29   \n",
       "\n",
       "        NumberOfTime30-59DaysPastDueNotWorse    DebtRatio  MonthlyIncome  \\\n",
       "101499                                     0     0.068522         1400.0   \n",
       "101500                                     3     0.934217         7615.0   \n",
       "101501                                     0   836.000000            NaN   \n",
       "101502                                     0  3568.000000            NaN   \n",
       "101503                                     0     0.198918         5916.0   \n",
       "\n",
       "        NumberOfOpenCreditLinesAndLoans  NumberOfTimes90DaysLate  \\\n",
       "101499                                5                        0   \n",
       "101500                                8                        0   \n",
       "101501                                3                        0   \n",
       "101502                                8                        0   \n",
       "101503                               12                        0   \n",
       "\n",
       "        NumberRealEstateLoansOrLines  NumberOfTime60-89DaysPastDueNotWorse  \\\n",
       "101499                             0                                     0   \n",
       "101500                             2                                     0   \n",
       "101501                             0                                     0   \n",
       "101502                             2                                     1   \n",
       "101503                             0                                     0   \n",
       "\n",
       "        NumberOfDependents  \n",
       "101499                 0.0  \n",
       "101500                 4.0  \n",
       "101501                 NaN  \n",
       "101502                 3.0  \n",
       "101503                 0.0  "
      ]
     },
     "execution_count": 10,
     "metadata": {},
     "output_type": "execute_result"
    }
   ],
   "source": [
    "test_data.tail()"
   ]
  },
  {
   "cell_type": "code",
   "execution_count": 11,
   "id": "191451d9",
   "metadata": {
    "execution": {
     "iopub.execute_input": "2022-12-13T14:51:56.658418Z",
     "iopub.status.busy": "2022-12-13T14:51:56.657595Z",
     "iopub.status.idle": "2022-12-13T14:51:56.675595Z",
     "shell.execute_reply": "2022-12-13T14:51:56.673353Z"
    },
    "papermill": {
     "duration": 0.035079,
     "end_time": "2022-12-13T14:51:56.679287",
     "exception": false,
     "start_time": "2022-12-13T14:51:56.644208",
     "status": "completed"
    },
    "tags": []
   },
   "outputs": [
    {
     "name": "stdout",
     "output_type": "stream",
     "text": [
      "<class 'pandas.core.frame.DataFrame'>\n",
      "Int64Index: 150000 entries, 1 to 150000\n",
      "Data columns (total 11 columns):\n",
      " #   Column                                Non-Null Count   Dtype  \n",
      "---  ------                                --------------   -----  \n",
      " 0   SeriousDlqin2yrs                      150000 non-null  int64  \n",
      " 1   RevolvingUtilizationOfUnsecuredLines  150000 non-null  float64\n",
      " 2   age                                   150000 non-null  int64  \n",
      " 3   NumberOfTime30-59DaysPastDueNotWorse  150000 non-null  int64  \n",
      " 4   DebtRatio                             150000 non-null  float64\n",
      " 5   MonthlyIncome                         120269 non-null  float64\n",
      " 6   NumberOfOpenCreditLinesAndLoans       150000 non-null  int64  \n",
      " 7   NumberOfTimes90DaysLate               150000 non-null  int64  \n",
      " 8   NumberRealEstateLoansOrLines          150000 non-null  int64  \n",
      " 9   NumberOfTime60-89DaysPastDueNotWorse  150000 non-null  int64  \n",
      " 10  NumberOfDependents                    146076 non-null  float64\n",
      "dtypes: float64(4), int64(7)\n",
      "memory usage: 13.7 MB\n"
     ]
    }
   ],
   "source": [
    "train_data.info()"
   ]
  },
  {
   "cell_type": "code",
   "execution_count": 12,
   "id": "43515ac6",
   "metadata": {
    "execution": {
     "iopub.execute_input": "2022-12-13T14:51:56.707216Z",
     "iopub.status.busy": "2022-12-13T14:51:56.706768Z",
     "iopub.status.idle": "2022-12-13T14:51:56.726250Z",
     "shell.execute_reply": "2022-12-13T14:51:56.724995Z"
    },
    "papermill": {
     "duration": 0.035903,
     "end_time": "2022-12-13T14:51:56.728784",
     "exception": false,
     "start_time": "2022-12-13T14:51:56.692881",
     "status": "completed"
    },
    "tags": []
   },
   "outputs": [
    {
     "data": {
      "text/html": [
       "<div>\n",
       "<style scoped>\n",
       "    .dataframe tbody tr th:only-of-type {\n",
       "        vertical-align: middle;\n",
       "    }\n",
       "\n",
       "    .dataframe tbody tr th {\n",
       "        vertical-align: top;\n",
       "    }\n",
       "\n",
       "    .dataframe thead th {\n",
       "        text-align: right;\n",
       "    }\n",
       "</style>\n",
       "<table border=\"1\" class=\"dataframe\">\n",
       "  <thead>\n",
       "    <tr style=\"text-align: right;\">\n",
       "      <th></th>\n",
       "      <th>SeriousDlqin2yrs</th>\n",
       "      <th>RevolvingUtilizationOfUnsecuredLines</th>\n",
       "      <th>age</th>\n",
       "      <th>NumberOfTime30-59DaysPastDueNotWorse</th>\n",
       "      <th>DebtRatio</th>\n",
       "      <th>MonthlyIncome</th>\n",
       "      <th>NumberOfOpenCreditLinesAndLoans</th>\n",
       "      <th>NumberOfTimes90DaysLate</th>\n",
       "      <th>NumberRealEstateLoansOrLines</th>\n",
       "      <th>NumberOfTime60-89DaysPastDueNotWorse</th>\n",
       "      <th>NumberOfDependents</th>\n",
       "    </tr>\n",
       "  </thead>\n",
       "  <tbody>\n",
       "    <tr>\n",
       "      <th>1</th>\n",
       "      <td>1</td>\n",
       "      <td>0.766127</td>\n",
       "      <td>45</td>\n",
       "      <td>2</td>\n",
       "      <td>0.802982</td>\n",
       "      <td>9120.0</td>\n",
       "      <td>13</td>\n",
       "      <td>0</td>\n",
       "      <td>6</td>\n",
       "      <td>0</td>\n",
       "      <td>2.0</td>\n",
       "    </tr>\n",
       "    <tr>\n",
       "      <th>2</th>\n",
       "      <td>0</td>\n",
       "      <td>0.957151</td>\n",
       "      <td>40</td>\n",
       "      <td>0</td>\n",
       "      <td>0.121876</td>\n",
       "      <td>2600.0</td>\n",
       "      <td>4</td>\n",
       "      <td>0</td>\n",
       "      <td>0</td>\n",
       "      <td>0</td>\n",
       "      <td>1.0</td>\n",
       "    </tr>\n",
       "    <tr>\n",
       "      <th>3</th>\n",
       "      <td>0</td>\n",
       "      <td>0.658180</td>\n",
       "      <td>38</td>\n",
       "      <td>1</td>\n",
       "      <td>0.085113</td>\n",
       "      <td>3042.0</td>\n",
       "      <td>2</td>\n",
       "      <td>1</td>\n",
       "      <td>0</td>\n",
       "      <td>0</td>\n",
       "      <td>0.0</td>\n",
       "    </tr>\n",
       "    <tr>\n",
       "      <th>4</th>\n",
       "      <td>0</td>\n",
       "      <td>0.233810</td>\n",
       "      <td>30</td>\n",
       "      <td>0</td>\n",
       "      <td>0.036050</td>\n",
       "      <td>3300.0</td>\n",
       "      <td>5</td>\n",
       "      <td>0</td>\n",
       "      <td>0</td>\n",
       "      <td>0</td>\n",
       "      <td>0.0</td>\n",
       "    </tr>\n",
       "    <tr>\n",
       "      <th>5</th>\n",
       "      <td>0</td>\n",
       "      <td>0.907239</td>\n",
       "      <td>49</td>\n",
       "      <td>1</td>\n",
       "      <td>0.024926</td>\n",
       "      <td>63588.0</td>\n",
       "      <td>7</td>\n",
       "      <td>0</td>\n",
       "      <td>1</td>\n",
       "      <td>0</td>\n",
       "      <td>0.0</td>\n",
       "    </tr>\n",
       "  </tbody>\n",
       "</table>\n",
       "</div>"
      ],
      "text/plain": [
       "   SeriousDlqin2yrs  RevolvingUtilizationOfUnsecuredLines  age  \\\n",
       "1                 1                              0.766127   45   \n",
       "2                 0                              0.957151   40   \n",
       "3                 0                              0.658180   38   \n",
       "4                 0                              0.233810   30   \n",
       "5                 0                              0.907239   49   \n",
       "\n",
       "   NumberOfTime30-59DaysPastDueNotWorse  DebtRatio  MonthlyIncome  \\\n",
       "1                                     2   0.802982         9120.0   \n",
       "2                                     0   0.121876         2600.0   \n",
       "3                                     1   0.085113         3042.0   \n",
       "4                                     0   0.036050         3300.0   \n",
       "5                                     1   0.024926        63588.0   \n",
       "\n",
       "   NumberOfOpenCreditLinesAndLoans  NumberOfTimes90DaysLate  \\\n",
       "1                               13                        0   \n",
       "2                                4                        0   \n",
       "3                                2                        1   \n",
       "4                                5                        0   \n",
       "5                                7                        0   \n",
       "\n",
       "   NumberRealEstateLoansOrLines  NumberOfTime60-89DaysPastDueNotWorse  \\\n",
       "1                             6                                     0   \n",
       "2                             0                                     0   \n",
       "3                             0                                     0   \n",
       "4                             0                                     0   \n",
       "5                             1                                     0   \n",
       "\n",
       "   NumberOfDependents  \n",
       "1                 2.0  \n",
       "2                 1.0  \n",
       "3                 0.0  \n",
       "4                 0.0  \n",
       "5                 0.0  "
      ]
     },
     "execution_count": 12,
     "metadata": {},
     "output_type": "execute_result"
    }
   ],
   "source": [
    "train_data.head()"
   ]
  },
  {
   "cell_type": "code",
   "execution_count": 13,
   "id": "3acdac8c",
   "metadata": {
    "execution": {
     "iopub.execute_input": "2022-12-13T14:51:56.756731Z",
     "iopub.status.busy": "2022-12-13T14:51:56.756327Z",
     "iopub.status.idle": "2022-12-13T14:51:56.773966Z",
     "shell.execute_reply": "2022-12-13T14:51:56.772735Z"
    },
    "papermill": {
     "duration": 0.034179,
     "end_time": "2022-12-13T14:51:56.776237",
     "exception": false,
     "start_time": "2022-12-13T14:51:56.742058",
     "status": "completed"
    },
    "tags": []
   },
   "outputs": [
    {
     "data": {
      "text/html": [
       "<div>\n",
       "<style scoped>\n",
       "    .dataframe tbody tr th:only-of-type {\n",
       "        vertical-align: middle;\n",
       "    }\n",
       "\n",
       "    .dataframe tbody tr th {\n",
       "        vertical-align: top;\n",
       "    }\n",
       "\n",
       "    .dataframe thead th {\n",
       "        text-align: right;\n",
       "    }\n",
       "</style>\n",
       "<table border=\"1\" class=\"dataframe\">\n",
       "  <thead>\n",
       "    <tr style=\"text-align: right;\">\n",
       "      <th></th>\n",
       "      <th>SeriousDlqin2yrs</th>\n",
       "      <th>RevolvingUtilizationOfUnsecuredLines</th>\n",
       "      <th>age</th>\n",
       "      <th>NumberOfTime30-59DaysPastDueNotWorse</th>\n",
       "      <th>DebtRatio</th>\n",
       "      <th>MonthlyIncome</th>\n",
       "      <th>NumberOfOpenCreditLinesAndLoans</th>\n",
       "      <th>NumberOfTimes90DaysLate</th>\n",
       "      <th>NumberRealEstateLoansOrLines</th>\n",
       "      <th>NumberOfTime60-89DaysPastDueNotWorse</th>\n",
       "      <th>NumberOfDependents</th>\n",
       "    </tr>\n",
       "  </thead>\n",
       "  <tbody>\n",
       "    <tr>\n",
       "      <th>149996</th>\n",
       "      <td>0</td>\n",
       "      <td>0.040674</td>\n",
       "      <td>74</td>\n",
       "      <td>0</td>\n",
       "      <td>0.225131</td>\n",
       "      <td>2100.0</td>\n",
       "      <td>4</td>\n",
       "      <td>0</td>\n",
       "      <td>1</td>\n",
       "      <td>0</td>\n",
       "      <td>0.0</td>\n",
       "    </tr>\n",
       "    <tr>\n",
       "      <th>149997</th>\n",
       "      <td>0</td>\n",
       "      <td>0.299745</td>\n",
       "      <td>44</td>\n",
       "      <td>0</td>\n",
       "      <td>0.716562</td>\n",
       "      <td>5584.0</td>\n",
       "      <td>4</td>\n",
       "      <td>0</td>\n",
       "      <td>1</td>\n",
       "      <td>0</td>\n",
       "      <td>2.0</td>\n",
       "    </tr>\n",
       "    <tr>\n",
       "      <th>149998</th>\n",
       "      <td>0</td>\n",
       "      <td>0.246044</td>\n",
       "      <td>58</td>\n",
       "      <td>0</td>\n",
       "      <td>3870.000000</td>\n",
       "      <td>NaN</td>\n",
       "      <td>18</td>\n",
       "      <td>0</td>\n",
       "      <td>1</td>\n",
       "      <td>0</td>\n",
       "      <td>0.0</td>\n",
       "    </tr>\n",
       "    <tr>\n",
       "      <th>149999</th>\n",
       "      <td>0</td>\n",
       "      <td>0.000000</td>\n",
       "      <td>30</td>\n",
       "      <td>0</td>\n",
       "      <td>0.000000</td>\n",
       "      <td>5716.0</td>\n",
       "      <td>4</td>\n",
       "      <td>0</td>\n",
       "      <td>0</td>\n",
       "      <td>0</td>\n",
       "      <td>0.0</td>\n",
       "    </tr>\n",
       "    <tr>\n",
       "      <th>150000</th>\n",
       "      <td>0</td>\n",
       "      <td>0.850283</td>\n",
       "      <td>64</td>\n",
       "      <td>0</td>\n",
       "      <td>0.249908</td>\n",
       "      <td>8158.0</td>\n",
       "      <td>8</td>\n",
       "      <td>0</td>\n",
       "      <td>2</td>\n",
       "      <td>0</td>\n",
       "      <td>0.0</td>\n",
       "    </tr>\n",
       "  </tbody>\n",
       "</table>\n",
       "</div>"
      ],
      "text/plain": [
       "        SeriousDlqin2yrs  RevolvingUtilizationOfUnsecuredLines  age  \\\n",
       "149996                 0                              0.040674   74   \n",
       "149997                 0                              0.299745   44   \n",
       "149998                 0                              0.246044   58   \n",
       "149999                 0                              0.000000   30   \n",
       "150000                 0                              0.850283   64   \n",
       "\n",
       "        NumberOfTime30-59DaysPastDueNotWorse    DebtRatio  MonthlyIncome  \\\n",
       "149996                                     0     0.225131         2100.0   \n",
       "149997                                     0     0.716562         5584.0   \n",
       "149998                                     0  3870.000000            NaN   \n",
       "149999                                     0     0.000000         5716.0   \n",
       "150000                                     0     0.249908         8158.0   \n",
       "\n",
       "        NumberOfOpenCreditLinesAndLoans  NumberOfTimes90DaysLate  \\\n",
       "149996                                4                        0   \n",
       "149997                                4                        0   \n",
       "149998                               18                        0   \n",
       "149999                                4                        0   \n",
       "150000                                8                        0   \n",
       "\n",
       "        NumberRealEstateLoansOrLines  NumberOfTime60-89DaysPastDueNotWorse  \\\n",
       "149996                             1                                     0   \n",
       "149997                             1                                     0   \n",
       "149998                             1                                     0   \n",
       "149999                             0                                     0   \n",
       "150000                             2                                     0   \n",
       "\n",
       "        NumberOfDependents  \n",
       "149996                 0.0  \n",
       "149997                 2.0  \n",
       "149998                 0.0  \n",
       "149999                 0.0  \n",
       "150000                 0.0  "
      ]
     },
     "execution_count": 13,
     "metadata": {},
     "output_type": "execute_result"
    }
   ],
   "source": [
    "train_data.tail()"
   ]
  },
  {
   "cell_type": "code",
   "execution_count": 14,
   "id": "da9f7784",
   "metadata": {
    "execution": {
     "iopub.execute_input": "2022-12-13T14:51:56.803597Z",
     "iopub.status.busy": "2022-12-13T14:51:56.803176Z",
     "iopub.status.idle": "2022-12-13T14:51:56.903517Z",
     "shell.execute_reply": "2022-12-13T14:51:56.902229Z"
    },
    "papermill": {
     "duration": 0.117602,
     "end_time": "2022-12-13T14:51:56.906135",
     "exception": false,
     "start_time": "2022-12-13T14:51:56.788533",
     "status": "completed"
    },
    "tags": []
   },
   "outputs": [
    {
     "data": {
      "text/html": [
       "<div>\n",
       "<style scoped>\n",
       "    .dataframe tbody tr th:only-of-type {\n",
       "        vertical-align: middle;\n",
       "    }\n",
       "\n",
       "    .dataframe tbody tr th {\n",
       "        vertical-align: top;\n",
       "    }\n",
       "\n",
       "    .dataframe thead th {\n",
       "        text-align: right;\n",
       "    }\n",
       "</style>\n",
       "<table border=\"1\" class=\"dataframe\">\n",
       "  <thead>\n",
       "    <tr style=\"text-align: right;\">\n",
       "      <th></th>\n",
       "      <th>SeriousDlqin2yrs</th>\n",
       "      <th>RevolvingUtilizationOfUnsecuredLines</th>\n",
       "      <th>age</th>\n",
       "      <th>NumberOfTime30-59DaysPastDueNotWorse</th>\n",
       "      <th>DebtRatio</th>\n",
       "      <th>MonthlyIncome</th>\n",
       "      <th>NumberOfOpenCreditLinesAndLoans</th>\n",
       "      <th>NumberOfTimes90DaysLate</th>\n",
       "      <th>NumberRealEstateLoansOrLines</th>\n",
       "      <th>NumberOfTime60-89DaysPastDueNotWorse</th>\n",
       "      <th>NumberOfDependents</th>\n",
       "    </tr>\n",
       "  </thead>\n",
       "  <tbody>\n",
       "    <tr>\n",
       "      <th>count</th>\n",
       "      <td>0.0</td>\n",
       "      <td>101503.000000</td>\n",
       "      <td>101503.000000</td>\n",
       "      <td>101503.000000</td>\n",
       "      <td>101503.000000</td>\n",
       "      <td>8.140000e+04</td>\n",
       "      <td>101503.000000</td>\n",
       "      <td>101503.000000</td>\n",
       "      <td>101503.000000</td>\n",
       "      <td>101503.000000</td>\n",
       "      <td>98877.000000</td>\n",
       "    </tr>\n",
       "    <tr>\n",
       "      <th>mean</th>\n",
       "      <td>NaN</td>\n",
       "      <td>5.310000</td>\n",
       "      <td>52.405436</td>\n",
       "      <td>0.453770</td>\n",
       "      <td>344.475020</td>\n",
       "      <td>6.855036e+03</td>\n",
       "      <td>8.453514</td>\n",
       "      <td>0.296691</td>\n",
       "      <td>1.013074</td>\n",
       "      <td>0.270317</td>\n",
       "      <td>0.769046</td>\n",
       "    </tr>\n",
       "    <tr>\n",
       "      <th>std</th>\n",
       "      <td>NaN</td>\n",
       "      <td>196.156039</td>\n",
       "      <td>14.779756</td>\n",
       "      <td>4.538487</td>\n",
       "      <td>1632.595231</td>\n",
       "      <td>3.650860e+04</td>\n",
       "      <td>5.144100</td>\n",
       "      <td>4.515859</td>\n",
       "      <td>1.110253</td>\n",
       "      <td>4.503578</td>\n",
       "      <td>1.136778</td>\n",
       "    </tr>\n",
       "    <tr>\n",
       "      <th>min</th>\n",
       "      <td>NaN</td>\n",
       "      <td>0.000000</td>\n",
       "      <td>21.000000</td>\n",
       "      <td>0.000000</td>\n",
       "      <td>0.000000</td>\n",
       "      <td>0.000000e+00</td>\n",
       "      <td>0.000000</td>\n",
       "      <td>0.000000</td>\n",
       "      <td>0.000000</td>\n",
       "      <td>0.000000</td>\n",
       "      <td>0.000000</td>\n",
       "    </tr>\n",
       "    <tr>\n",
       "      <th>25%</th>\n",
       "      <td>NaN</td>\n",
       "      <td>0.030131</td>\n",
       "      <td>41.000000</td>\n",
       "      <td>0.000000</td>\n",
       "      <td>0.173423</td>\n",
       "      <td>3.408000e+03</td>\n",
       "      <td>5.000000</td>\n",
       "      <td>0.000000</td>\n",
       "      <td>0.000000</td>\n",
       "      <td>0.000000</td>\n",
       "      <td>0.000000</td>\n",
       "    </tr>\n",
       "    <tr>\n",
       "      <th>50%</th>\n",
       "      <td>NaN</td>\n",
       "      <td>0.152586</td>\n",
       "      <td>52.000000</td>\n",
       "      <td>0.000000</td>\n",
       "      <td>0.364260</td>\n",
       "      <td>5.400000e+03</td>\n",
       "      <td>8.000000</td>\n",
       "      <td>0.000000</td>\n",
       "      <td>1.000000</td>\n",
       "      <td>0.000000</td>\n",
       "      <td>0.000000</td>\n",
       "    </tr>\n",
       "    <tr>\n",
       "      <th>75%</th>\n",
       "      <td>NaN</td>\n",
       "      <td>0.564225</td>\n",
       "      <td>63.000000</td>\n",
       "      <td>0.000000</td>\n",
       "      <td>0.851619</td>\n",
       "      <td>8.200000e+03</td>\n",
       "      <td>11.000000</td>\n",
       "      <td>0.000000</td>\n",
       "      <td>2.000000</td>\n",
       "      <td>0.000000</td>\n",
       "      <td>1.000000</td>\n",
       "    </tr>\n",
       "    <tr>\n",
       "      <th>max</th>\n",
       "      <td>NaN</td>\n",
       "      <td>21821.000000</td>\n",
       "      <td>104.000000</td>\n",
       "      <td>98.000000</td>\n",
       "      <td>268326.000000</td>\n",
       "      <td>7.727000e+06</td>\n",
       "      <td>85.000000</td>\n",
       "      <td>98.000000</td>\n",
       "      <td>37.000000</td>\n",
       "      <td>98.000000</td>\n",
       "      <td>43.000000</td>\n",
       "    </tr>\n",
       "  </tbody>\n",
       "</table>\n",
       "</div>"
      ],
      "text/plain": [
       "       SeriousDlqin2yrs  RevolvingUtilizationOfUnsecuredLines            age  \\\n",
       "count               0.0                         101503.000000  101503.000000   \n",
       "mean                NaN                              5.310000      52.405436   \n",
       "std                 NaN                            196.156039      14.779756   \n",
       "min                 NaN                              0.000000      21.000000   \n",
       "25%                 NaN                              0.030131      41.000000   \n",
       "50%                 NaN                              0.152586      52.000000   \n",
       "75%                 NaN                              0.564225      63.000000   \n",
       "max                 NaN                          21821.000000     104.000000   \n",
       "\n",
       "       NumberOfTime30-59DaysPastDueNotWorse      DebtRatio  MonthlyIncome  \\\n",
       "count                         101503.000000  101503.000000   8.140000e+04   \n",
       "mean                               0.453770     344.475020   6.855036e+03   \n",
       "std                                4.538487    1632.595231   3.650860e+04   \n",
       "min                                0.000000       0.000000   0.000000e+00   \n",
       "25%                                0.000000       0.173423   3.408000e+03   \n",
       "50%                                0.000000       0.364260   5.400000e+03   \n",
       "75%                                0.000000       0.851619   8.200000e+03   \n",
       "max                               98.000000  268326.000000   7.727000e+06   \n",
       "\n",
       "       NumberOfOpenCreditLinesAndLoans  NumberOfTimes90DaysLate  \\\n",
       "count                    101503.000000            101503.000000   \n",
       "mean                          8.453514                 0.296691   \n",
       "std                           5.144100                 4.515859   \n",
       "min                           0.000000                 0.000000   \n",
       "25%                           5.000000                 0.000000   \n",
       "50%                           8.000000                 0.000000   \n",
       "75%                          11.000000                 0.000000   \n",
       "max                          85.000000                98.000000   \n",
       "\n",
       "       NumberRealEstateLoansOrLines  NumberOfTime60-89DaysPastDueNotWorse  \\\n",
       "count                 101503.000000                         101503.000000   \n",
       "mean                       1.013074                              0.270317   \n",
       "std                        1.110253                              4.503578   \n",
       "min                        0.000000                              0.000000   \n",
       "25%                        0.000000                              0.000000   \n",
       "50%                        1.000000                              0.000000   \n",
       "75%                        2.000000                              0.000000   \n",
       "max                       37.000000                             98.000000   \n",
       "\n",
       "       NumberOfDependents  \n",
       "count        98877.000000  \n",
       "mean             0.769046  \n",
       "std              1.136778  \n",
       "min              0.000000  \n",
       "25%              0.000000  \n",
       "50%              0.000000  \n",
       "75%              1.000000  \n",
       "max             43.000000  "
      ]
     },
     "execution_count": 14,
     "metadata": {},
     "output_type": "execute_result"
    }
   ],
   "source": [
    "test_data.describe()"
   ]
  },
  {
   "cell_type": "code",
   "execution_count": 15,
   "id": "aade669d",
   "metadata": {
    "execution": {
     "iopub.execute_input": "2022-12-13T14:51:56.935999Z",
     "iopub.status.busy": "2022-12-13T14:51:56.934053Z",
     "iopub.status.idle": "2022-12-13T14:51:57.047659Z",
     "shell.execute_reply": "2022-12-13T14:51:57.046424Z"
    },
    "papermill": {
     "duration": 0.130517,
     "end_time": "2022-12-13T14:51:57.050180",
     "exception": false,
     "start_time": "2022-12-13T14:51:56.919663",
     "status": "completed"
    },
    "tags": []
   },
   "outputs": [
    {
     "data": {
      "text/html": [
       "<div>\n",
       "<style scoped>\n",
       "    .dataframe tbody tr th:only-of-type {\n",
       "        vertical-align: middle;\n",
       "    }\n",
       "\n",
       "    .dataframe tbody tr th {\n",
       "        vertical-align: top;\n",
       "    }\n",
       "\n",
       "    .dataframe thead th {\n",
       "        text-align: right;\n",
       "    }\n",
       "</style>\n",
       "<table border=\"1\" class=\"dataframe\">\n",
       "  <thead>\n",
       "    <tr style=\"text-align: right;\">\n",
       "      <th></th>\n",
       "      <th>SeriousDlqin2yrs</th>\n",
       "      <th>RevolvingUtilizationOfUnsecuredLines</th>\n",
       "      <th>age</th>\n",
       "      <th>NumberOfTime30-59DaysPastDueNotWorse</th>\n",
       "      <th>DebtRatio</th>\n",
       "      <th>MonthlyIncome</th>\n",
       "      <th>NumberOfOpenCreditLinesAndLoans</th>\n",
       "      <th>NumberOfTimes90DaysLate</th>\n",
       "      <th>NumberRealEstateLoansOrLines</th>\n",
       "      <th>NumberOfTime60-89DaysPastDueNotWorse</th>\n",
       "      <th>NumberOfDependents</th>\n",
       "    </tr>\n",
       "  </thead>\n",
       "  <tbody>\n",
       "    <tr>\n",
       "      <th>count</th>\n",
       "      <td>150000.000000</td>\n",
       "      <td>150000.000000</td>\n",
       "      <td>150000.000000</td>\n",
       "      <td>150000.000000</td>\n",
       "      <td>150000.000000</td>\n",
       "      <td>1.202690e+05</td>\n",
       "      <td>150000.000000</td>\n",
       "      <td>150000.000000</td>\n",
       "      <td>150000.000000</td>\n",
       "      <td>150000.000000</td>\n",
       "      <td>146076.000000</td>\n",
       "    </tr>\n",
       "    <tr>\n",
       "      <th>mean</th>\n",
       "      <td>0.066840</td>\n",
       "      <td>6.048438</td>\n",
       "      <td>52.295207</td>\n",
       "      <td>0.421033</td>\n",
       "      <td>353.005076</td>\n",
       "      <td>6.670221e+03</td>\n",
       "      <td>8.452760</td>\n",
       "      <td>0.265973</td>\n",
       "      <td>1.018240</td>\n",
       "      <td>0.240387</td>\n",
       "      <td>0.757222</td>\n",
       "    </tr>\n",
       "    <tr>\n",
       "      <th>std</th>\n",
       "      <td>0.249746</td>\n",
       "      <td>249.755371</td>\n",
       "      <td>14.771866</td>\n",
       "      <td>4.192781</td>\n",
       "      <td>2037.818523</td>\n",
       "      <td>1.438467e+04</td>\n",
       "      <td>5.145951</td>\n",
       "      <td>4.169304</td>\n",
       "      <td>1.129771</td>\n",
       "      <td>4.155179</td>\n",
       "      <td>1.115086</td>\n",
       "    </tr>\n",
       "    <tr>\n",
       "      <th>min</th>\n",
       "      <td>0.000000</td>\n",
       "      <td>0.000000</td>\n",
       "      <td>0.000000</td>\n",
       "      <td>0.000000</td>\n",
       "      <td>0.000000</td>\n",
       "      <td>0.000000e+00</td>\n",
       "      <td>0.000000</td>\n",
       "      <td>0.000000</td>\n",
       "      <td>0.000000</td>\n",
       "      <td>0.000000</td>\n",
       "      <td>0.000000</td>\n",
       "    </tr>\n",
       "    <tr>\n",
       "      <th>25%</th>\n",
       "      <td>0.000000</td>\n",
       "      <td>0.029867</td>\n",
       "      <td>41.000000</td>\n",
       "      <td>0.000000</td>\n",
       "      <td>0.175074</td>\n",
       "      <td>3.400000e+03</td>\n",
       "      <td>5.000000</td>\n",
       "      <td>0.000000</td>\n",
       "      <td>0.000000</td>\n",
       "      <td>0.000000</td>\n",
       "      <td>0.000000</td>\n",
       "    </tr>\n",
       "    <tr>\n",
       "      <th>50%</th>\n",
       "      <td>0.000000</td>\n",
       "      <td>0.154181</td>\n",
       "      <td>52.000000</td>\n",
       "      <td>0.000000</td>\n",
       "      <td>0.366508</td>\n",
       "      <td>5.400000e+03</td>\n",
       "      <td>8.000000</td>\n",
       "      <td>0.000000</td>\n",
       "      <td>1.000000</td>\n",
       "      <td>0.000000</td>\n",
       "      <td>0.000000</td>\n",
       "    </tr>\n",
       "    <tr>\n",
       "      <th>75%</th>\n",
       "      <td>0.000000</td>\n",
       "      <td>0.559046</td>\n",
       "      <td>63.000000</td>\n",
       "      <td>0.000000</td>\n",
       "      <td>0.868254</td>\n",
       "      <td>8.249000e+03</td>\n",
       "      <td>11.000000</td>\n",
       "      <td>0.000000</td>\n",
       "      <td>2.000000</td>\n",
       "      <td>0.000000</td>\n",
       "      <td>1.000000</td>\n",
       "    </tr>\n",
       "    <tr>\n",
       "      <th>max</th>\n",
       "      <td>1.000000</td>\n",
       "      <td>50708.000000</td>\n",
       "      <td>109.000000</td>\n",
       "      <td>98.000000</td>\n",
       "      <td>329664.000000</td>\n",
       "      <td>3.008750e+06</td>\n",
       "      <td>58.000000</td>\n",
       "      <td>98.000000</td>\n",
       "      <td>54.000000</td>\n",
       "      <td>98.000000</td>\n",
       "      <td>20.000000</td>\n",
       "    </tr>\n",
       "  </tbody>\n",
       "</table>\n",
       "</div>"
      ],
      "text/plain": [
       "       SeriousDlqin2yrs  RevolvingUtilizationOfUnsecuredLines            age  \\\n",
       "count     150000.000000                         150000.000000  150000.000000   \n",
       "mean           0.066840                              6.048438      52.295207   \n",
       "std            0.249746                            249.755371      14.771866   \n",
       "min            0.000000                              0.000000       0.000000   \n",
       "25%            0.000000                              0.029867      41.000000   \n",
       "50%            0.000000                              0.154181      52.000000   \n",
       "75%            0.000000                              0.559046      63.000000   \n",
       "max            1.000000                          50708.000000     109.000000   \n",
       "\n",
       "       NumberOfTime30-59DaysPastDueNotWorse      DebtRatio  MonthlyIncome  \\\n",
       "count                         150000.000000  150000.000000   1.202690e+05   \n",
       "mean                               0.421033     353.005076   6.670221e+03   \n",
       "std                                4.192781    2037.818523   1.438467e+04   \n",
       "min                                0.000000       0.000000   0.000000e+00   \n",
       "25%                                0.000000       0.175074   3.400000e+03   \n",
       "50%                                0.000000       0.366508   5.400000e+03   \n",
       "75%                                0.000000       0.868254   8.249000e+03   \n",
       "max                               98.000000  329664.000000   3.008750e+06   \n",
       "\n",
       "       NumberOfOpenCreditLinesAndLoans  NumberOfTimes90DaysLate  \\\n",
       "count                    150000.000000            150000.000000   \n",
       "mean                          8.452760                 0.265973   \n",
       "std                           5.145951                 4.169304   \n",
       "min                           0.000000                 0.000000   \n",
       "25%                           5.000000                 0.000000   \n",
       "50%                           8.000000                 0.000000   \n",
       "75%                          11.000000                 0.000000   \n",
       "max                          58.000000                98.000000   \n",
       "\n",
       "       NumberRealEstateLoansOrLines  NumberOfTime60-89DaysPastDueNotWorse  \\\n",
       "count                 150000.000000                         150000.000000   \n",
       "mean                       1.018240                              0.240387   \n",
       "std                        1.129771                              4.155179   \n",
       "min                        0.000000                              0.000000   \n",
       "25%                        0.000000                              0.000000   \n",
       "50%                        1.000000                              0.000000   \n",
       "75%                        2.000000                              0.000000   \n",
       "max                       54.000000                             98.000000   \n",
       "\n",
       "       NumberOfDependents  \n",
       "count       146076.000000  \n",
       "mean             0.757222  \n",
       "std              1.115086  \n",
       "min              0.000000  \n",
       "25%              0.000000  \n",
       "50%              0.000000  \n",
       "75%              1.000000  \n",
       "max             20.000000  "
      ]
     },
     "execution_count": 15,
     "metadata": {},
     "output_type": "execute_result"
    }
   ],
   "source": [
    "train_data.describe()"
   ]
  },
  {
   "cell_type": "code",
   "execution_count": 16,
   "id": "ee10d39e",
   "metadata": {
    "execution": {
     "iopub.execute_input": "2022-12-13T14:51:57.079729Z",
     "iopub.status.busy": "2022-12-13T14:51:57.078508Z",
     "iopub.status.idle": "2022-12-13T14:51:57.101633Z",
     "shell.execute_reply": "2022-12-13T14:51:57.100231Z"
    },
    "papermill": {
     "duration": 0.040455,
     "end_time": "2022-12-13T14:51:57.104289",
     "exception": false,
     "start_time": "2022-12-13T14:51:57.063834",
     "status": "completed"
    },
    "tags": []
   },
   "outputs": [
    {
     "data": {
      "text/html": [
       "<div>\n",
       "<style scoped>\n",
       "    .dataframe tbody tr th:only-of-type {\n",
       "        vertical-align: middle;\n",
       "    }\n",
       "\n",
       "    .dataframe tbody tr th {\n",
       "        vertical-align: top;\n",
       "    }\n",
       "\n",
       "    .dataframe thead th {\n",
       "        text-align: right;\n",
       "    }\n",
       "</style>\n",
       "<table border=\"1\" class=\"dataframe\">\n",
       "  <thead>\n",
       "    <tr style=\"text-align: right;\">\n",
       "      <th></th>\n",
       "      <th>jumlah</th>\n",
       "      <th>ratio dalam %</th>\n",
       "    </tr>\n",
       "  </thead>\n",
       "  <tbody>\n",
       "    <tr>\n",
       "      <th>SeriousDlqin2yrs</th>\n",
       "      <td>0</td>\n",
       "      <td>0.000000</td>\n",
       "    </tr>\n",
       "    <tr>\n",
       "      <th>RevolvingUtilizationOfUnsecuredLines</th>\n",
       "      <td>0</td>\n",
       "      <td>0.000000</td>\n",
       "    </tr>\n",
       "    <tr>\n",
       "      <th>age</th>\n",
       "      <td>0</td>\n",
       "      <td>0.000000</td>\n",
       "    </tr>\n",
       "    <tr>\n",
       "      <th>NumberOfTime30-59DaysPastDueNotWorse</th>\n",
       "      <td>0</td>\n",
       "      <td>0.000000</td>\n",
       "    </tr>\n",
       "    <tr>\n",
       "      <th>DebtRatio</th>\n",
       "      <td>0</td>\n",
       "      <td>0.000000</td>\n",
       "    </tr>\n",
       "    <tr>\n",
       "      <th>MonthlyIncome</th>\n",
       "      <td>29731</td>\n",
       "      <td>19.820667</td>\n",
       "    </tr>\n",
       "    <tr>\n",
       "      <th>NumberOfOpenCreditLinesAndLoans</th>\n",
       "      <td>0</td>\n",
       "      <td>0.000000</td>\n",
       "    </tr>\n",
       "    <tr>\n",
       "      <th>NumberOfTimes90DaysLate</th>\n",
       "      <td>0</td>\n",
       "      <td>0.000000</td>\n",
       "    </tr>\n",
       "    <tr>\n",
       "      <th>NumberRealEstateLoansOrLines</th>\n",
       "      <td>0</td>\n",
       "      <td>0.000000</td>\n",
       "    </tr>\n",
       "    <tr>\n",
       "      <th>NumberOfTime60-89DaysPastDueNotWorse</th>\n",
       "      <td>0</td>\n",
       "      <td>0.000000</td>\n",
       "    </tr>\n",
       "    <tr>\n",
       "      <th>NumberOfDependents</th>\n",
       "      <td>3924</td>\n",
       "      <td>2.616000</td>\n",
       "    </tr>\n",
       "  </tbody>\n",
       "</table>\n",
       "</div>"
      ],
      "text/plain": [
       "                                      jumlah  ratio dalam %\n",
       "SeriousDlqin2yrs                           0       0.000000\n",
       "RevolvingUtilizationOfUnsecuredLines       0       0.000000\n",
       "age                                        0       0.000000\n",
       "NumberOfTime30-59DaysPastDueNotWorse       0       0.000000\n",
       "DebtRatio                                  0       0.000000\n",
       "MonthlyIncome                          29731      19.820667\n",
       "NumberOfOpenCreditLinesAndLoans            0       0.000000\n",
       "NumberOfTimes90DaysLate                    0       0.000000\n",
       "NumberRealEstateLoansOrLines               0       0.000000\n",
       "NumberOfTime60-89DaysPastDueNotWorse       0       0.000000\n",
       "NumberOfDependents                      3924       2.616000"
      ]
     },
     "execution_count": 16,
     "metadata": {},
     "output_type": "execute_result"
    }
   ],
   "source": [
    "pd.DataFrame({'jumlah' : train_data.isnull().sum().values, 'ratio dalam %' : train_data.isnull().mean()*100})"
   ]
  },
  {
   "cell_type": "code",
   "execution_count": 17,
   "id": "3233cf0c",
   "metadata": {
    "execution": {
     "iopub.execute_input": "2022-12-13T14:51:57.139012Z",
     "iopub.status.busy": "2022-12-13T14:51:57.138439Z",
     "iopub.status.idle": "2022-12-13T14:51:57.160082Z",
     "shell.execute_reply": "2022-12-13T14:51:57.158841Z"
    },
    "papermill": {
     "duration": 0.044833,
     "end_time": "2022-12-13T14:51:57.164410",
     "exception": false,
     "start_time": "2022-12-13T14:51:57.119577",
     "status": "completed"
    },
    "tags": []
   },
   "outputs": [
    {
     "data": {
      "text/html": [
       "<div>\n",
       "<style scoped>\n",
       "    .dataframe tbody tr th:only-of-type {\n",
       "        vertical-align: middle;\n",
       "    }\n",
       "\n",
       "    .dataframe tbody tr th {\n",
       "        vertical-align: top;\n",
       "    }\n",
       "\n",
       "    .dataframe thead th {\n",
       "        text-align: right;\n",
       "    }\n",
       "</style>\n",
       "<table border=\"1\" class=\"dataframe\">\n",
       "  <thead>\n",
       "    <tr style=\"text-align: right;\">\n",
       "      <th></th>\n",
       "      <th>total</th>\n",
       "      <th>ratio in %</th>\n",
       "    </tr>\n",
       "  </thead>\n",
       "  <tbody>\n",
       "    <tr>\n",
       "      <th>SeriousDlqin2yrs</th>\n",
       "      <td>101503</td>\n",
       "      <td>100.000000</td>\n",
       "    </tr>\n",
       "    <tr>\n",
       "      <th>RevolvingUtilizationOfUnsecuredLines</th>\n",
       "      <td>0</td>\n",
       "      <td>0.000000</td>\n",
       "    </tr>\n",
       "    <tr>\n",
       "      <th>age</th>\n",
       "      <td>0</td>\n",
       "      <td>0.000000</td>\n",
       "    </tr>\n",
       "    <tr>\n",
       "      <th>NumberOfTime30-59DaysPastDueNotWorse</th>\n",
       "      <td>0</td>\n",
       "      <td>0.000000</td>\n",
       "    </tr>\n",
       "    <tr>\n",
       "      <th>DebtRatio</th>\n",
       "      <td>0</td>\n",
       "      <td>0.000000</td>\n",
       "    </tr>\n",
       "    <tr>\n",
       "      <th>MonthlyIncome</th>\n",
       "      <td>20103</td>\n",
       "      <td>19.805326</td>\n",
       "    </tr>\n",
       "    <tr>\n",
       "      <th>NumberOfOpenCreditLinesAndLoans</th>\n",
       "      <td>0</td>\n",
       "      <td>0.000000</td>\n",
       "    </tr>\n",
       "    <tr>\n",
       "      <th>NumberOfTimes90DaysLate</th>\n",
       "      <td>0</td>\n",
       "      <td>0.000000</td>\n",
       "    </tr>\n",
       "    <tr>\n",
       "      <th>NumberRealEstateLoansOrLines</th>\n",
       "      <td>0</td>\n",
       "      <td>0.000000</td>\n",
       "    </tr>\n",
       "    <tr>\n",
       "      <th>NumberOfTime60-89DaysPastDueNotWorse</th>\n",
       "      <td>0</td>\n",
       "      <td>0.000000</td>\n",
       "    </tr>\n",
       "    <tr>\n",
       "      <th>NumberOfDependents</th>\n",
       "      <td>2626</td>\n",
       "      <td>2.587116</td>\n",
       "    </tr>\n",
       "  </tbody>\n",
       "</table>\n",
       "</div>"
      ],
      "text/plain": [
       "                                       total  ratio in %\n",
       "SeriousDlqin2yrs                      101503  100.000000\n",
       "RevolvingUtilizationOfUnsecuredLines       0    0.000000\n",
       "age                                        0    0.000000\n",
       "NumberOfTime30-59DaysPastDueNotWorse       0    0.000000\n",
       "DebtRatio                                  0    0.000000\n",
       "MonthlyIncome                          20103   19.805326\n",
       "NumberOfOpenCreditLinesAndLoans            0    0.000000\n",
       "NumberOfTimes90DaysLate                    0    0.000000\n",
       "NumberRealEstateLoansOrLines               0    0.000000\n",
       "NumberOfTime60-89DaysPastDueNotWorse       0    0.000000\n",
       "NumberOfDependents                      2626    2.587116"
      ]
     },
     "execution_count": 17,
     "metadata": {},
     "output_type": "execute_result"
    }
   ],
   "source": [
    "pd.DataFrame({'total' : test_data.isnull().sum().values, 'ratio in %' : test_data.isnull().mean()*100})"
   ]
  },
  {
   "cell_type": "code",
   "execution_count": 18,
   "id": "5f9b3a03",
   "metadata": {
    "execution": {
     "iopub.execute_input": "2022-12-13T14:51:57.200018Z",
     "iopub.status.busy": "2022-12-13T14:51:57.199322Z",
     "iopub.status.idle": "2022-12-13T14:51:57.211247Z",
     "shell.execute_reply": "2022-12-13T14:51:57.210371Z"
    },
    "papermill": {
     "duration": 0.032047,
     "end_time": "2022-12-13T14:51:57.214969",
     "exception": false,
     "start_time": "2022-12-13T14:51:57.182922",
     "status": "completed"
    },
    "tags": []
   },
   "outputs": [
    {
     "data": {
      "text/plain": [
       "0    0.93316\n",
       "1    0.06684\n",
       "Name: SeriousDlqin2yrs, dtype: float64"
      ]
     },
     "execution_count": 18,
     "metadata": {},
     "output_type": "execute_result"
    }
   ],
   "source": [
    "# 1 punya tunggakan dan 0 tidak punya\n",
    "train_data['SeriousDlqin2yrs'].value_counts()/train_data.shape[0]"
   ]
  },
  {
   "cell_type": "code",
   "execution_count": 19,
   "id": "17093ef3",
   "metadata": {
    "execution": {
     "iopub.execute_input": "2022-12-13T14:51:57.250916Z",
     "iopub.status.busy": "2022-12-13T14:51:57.250509Z",
     "iopub.status.idle": "2022-12-13T14:51:59.758347Z",
     "shell.execute_reply": "2022-12-13T14:51:59.757345Z"
    },
    "papermill": {
     "duration": 2.52619,
     "end_time": "2022-12-13T14:51:59.761285",
     "exception": false,
     "start_time": "2022-12-13T14:51:57.235095",
     "status": "completed"
    },
    "tags": []
   },
   "outputs": [
    {
     "data": {
      "text/plain": [
       "<AxesSubplot:>"
      ]
     },
     "execution_count": 19,
     "metadata": {},
     "output_type": "execute_result"
    },
    {
     "data": {
      "image/png": "[encoded data removed]",
      "text/plain": [
       "<Figure size 720x720 with 2 Axes>"
      ]
     },
     "metadata": {
      "needs_background": "light"
     },
     "output_type": "display_data"
    }
   ],
   "source": [
    "import matplotlib.pyplot as plt\n",
    "import seaborn as sns\n",
    "\n",
    "fig, ax = plt.subplots(figsize=(10,10))\n",
    "sns.heatmap(train_data.corr(),annot=True)"
   ]
  },
  {
   "cell_type": "code",
   "execution_count": 20,
   "id": "be91efb4",
   "metadata": {
    "execution": {
     "iopub.execute_input": "2022-12-13T14:51:59.798033Z",
     "iopub.status.busy": "2022-12-13T14:51:59.797215Z",
     "iopub.status.idle": "2022-12-13T14:52:00.053535Z",
     "shell.execute_reply": "2022-12-13T14:52:00.052312Z"
    },
    "papermill": {
     "duration": 0.282228,
     "end_time": "2022-12-13T14:52:00.060026",
     "exception": false,
     "start_time": "2022-12-13T14:51:59.777798",
     "status": "completed"
    },
    "tags": []
   },
   "outputs": [
    {
     "data": {
      "text/plain": [
       "Text(0, 0.5, 'Total')"
      ]
     },
     "execution_count": 20,
     "metadata": {},
     "output_type": "execute_result"
    },
    {
     "data": {
      "image/png": "[encoded data removed]",
      "text/plain": [
       "<Figure size 432x288 with 1 Axes>"
      ]
     },
     "metadata": {
      "needs_background": "light"
     },
     "output_type": "display_data"
    }
   ],
   "source": [
    "plt.hist(train_data[\"age\"])\n",
    "\n",
    "plt.xlabel('Usia')\n",
    "plt.ylabel('Total')"
   ]
  },
  {
   "cell_type": "code",
   "execution_count": 21,
   "id": "18573c50",
   "metadata": {
    "execution": {
     "iopub.execute_input": "2022-12-13T14:52:00.096020Z",
     "iopub.status.busy": "2022-12-13T14:52:00.095618Z",
     "iopub.status.idle": "2022-12-13T14:52:00.102371Z",
     "shell.execute_reply": "2022-12-13T14:52:00.100985Z"
    },
    "papermill": {
     "duration": 0.028199,
     "end_time": "2022-12-13T14:52:00.105083",
     "exception": false,
     "start_time": "2022-12-13T14:52:00.076884",
     "status": "completed"
    },
    "tags": []
   },
   "outputs": [],
   "source": [
    "import numpy as np\n",
    "def remove_outliers(df,attribute_name,max_scale_from_std):\n",
    "    f = df[attribute_name]\n",
    "    std = f.std()\n",
    "    distance_from_mean = f-f.mean()\n",
    "    condition = np.abs(distance_from_mean) >= max_scale_from_std * std\n",
    "    df.loc[condition,attribute_name] = f.mean()\n",
    "    return df"
   ]
  },
  {
   "cell_type": "code",
   "execution_count": 22,
   "id": "bc271b54",
   "metadata": {
    "execution": {
     "iopub.execute_input": "2022-12-13T14:52:00.141420Z",
     "iopub.status.busy": "2022-12-13T14:52:00.139898Z",
     "iopub.status.idle": "2022-12-13T14:52:01.038198Z",
     "shell.execute_reply": "2022-12-13T14:52:01.035920Z"
    },
    "papermill": {
     "duration": 0.91991,
     "end_time": "2022-12-13T14:52:01.041534",
     "exception": false,
     "start_time": "2022-12-13T14:52:00.121624",
     "status": "completed"
    },
    "tags": []
   },
   "outputs": [
    {
     "data": {
      "image/png": "[encoded data removed]",
      "text/plain": [
       "<Figure size 936x432 with 2 Axes>"
      ]
     },
     "metadata": {
      "needs_background": "light"
     },
     "output_type": "display_data"
    }
   ],
   "source": [
    "atribut = train_data['NumberOfTimes90DaysLate']\n",
    "\n",
    "fig, axes = plt.subplots(1, 2, figsize=(13,6))\n",
    "axes[0].scatter(atribut, atribut)\n",
    "axes[0].set_xlabel(\"Sebelum\")\n",
    "\n",
    "train_data = remove_outliers(train_data, \"NumberOfTimes90DaysLate\", 3)\n",
    "atribut = atribut = train_data['NumberOfTimes90DaysLate']\n",
    "axes[1].scatter(atribut, atribut)\n",
    "axes[1].set_xlabel(\"Sesudah\")\n",
    "\n",
    "\n",
    "plt.show()\n"
   ]
  },
  {
   "cell_type": "code",
   "execution_count": 23,
   "id": "6855f689",
   "metadata": {
    "execution": {
     "iopub.execute_input": "2022-12-13T14:52:01.079363Z",
     "iopub.status.busy": "2022-12-13T14:52:01.078754Z",
     "iopub.status.idle": "2022-12-13T14:52:02.553330Z",
     "shell.execute_reply": "2022-12-13T14:52:02.552328Z"
    },
    "papermill": {
     "duration": 1.496154,
     "end_time": "2022-12-13T14:52:02.555704",
     "exception": false,
     "start_time": "2022-12-13T14:52:01.059550",
     "status": "completed"
    },
    "tags": []
   },
   "outputs": [
    {
     "data": {
      "text/plain": [
       "Text(0.5, 0, 'Sesudah')"
      ]
     },
     "execution_count": 23,
     "metadata": {},
     "output_type": "execute_result"
    },
    {
     "data": {
      "image/png": "[encoded data removed]",
      "text/plain": [
       "<Figure size 936x432 with 2 Axes>"
      ]
     },
     "metadata": {
      "needs_background": "light"
     },
     "output_type": "display_data"
    }
   ],
   "source": [
    "atribut = train_data['NumberOfTime30-59DaysPastDueNotWorse']\n",
    "\n",
    "fig, axes = plt.subplots(1, 2, figsize=(13,6))\n",
    "axes[0].scatter(atribut, atribut)\n",
    "axes[0].set_xlabel(\"Sebelum\")\n",
    "\n",
    "train_data = remove_outliers(train_data, \"NumberOfTime30-59DaysPastDueNotWorse\", 3)\n",
    "atribut = atribut = train_data['NumberOfTime30-59DaysPastDueNotWorse']\n",
    "axes[1].scatter(atribut, atribut)\n",
    "axes[1].set_xlabel(\"Sesudah\")"
   ]
  },
  {
   "cell_type": "code",
   "execution_count": 24,
   "id": "f5ac2184",
   "metadata": {
    "execution": {
     "iopub.execute_input": "2022-12-13T14:52:02.592590Z",
     "iopub.status.busy": "2022-12-13T14:52:02.591445Z",
     "iopub.status.idle": "2022-12-13T14:52:04.067754Z",
     "shell.execute_reply": "2022-12-13T14:52:04.066783Z"
    },
    "papermill": {
     "duration": 1.498377,
     "end_time": "2022-12-13T14:52:04.070898",
     "exception": false,
     "start_time": "2022-12-13T14:52:02.572521",
     "status": "completed"
    },
    "tags": []
   },
   "outputs": [
    {
     "data": {
      "text/plain": [
       "Text(0.5, 0, 'Sesudah')"
      ]
     },
     "execution_count": 24,
     "metadata": {},
     "output_type": "execute_result"
    },
    {
     "data": {
      "image/png": "[encoded data removed]",
      "text/plain": [
       "<Figure size 936x432 with 2 Axes>"
      ]
     },
     "metadata": {
      "needs_background": "light"
     },
     "output_type": "display_data"
    }
   ],
   "source": [
    "atribut = train_data['NumberOfTime60-89DaysPastDueNotWorse']\n",
    "\n",
    "fig, axes = plt.subplots(1, 2, figsize=(13,6))\n",
    "axes[0].scatter(atribut, atribut)\n",
    "axes[0].set_xlabel(\"Sebelum\")\n",
    "\n",
    "train_data = remove_outliers(train_data, \"NumberOfTime60-89DaysPastDueNotWorse\", 3)\n",
    "atribut = atribut = train_data['NumberOfTime60-89DaysPastDueNotWorse']\n",
    "axes[1].scatter(atribut, atribut)\n",
    "axes[1].set_xlabel(\"Sesudah\")"
   ]
  },
  {
   "cell_type": "code",
   "execution_count": 25,
   "id": "42ec7471",
   "metadata": {
    "execution": {
     "iopub.execute_input": "2022-12-13T14:52:04.113179Z",
     "iopub.status.busy": "2022-12-13T14:52:04.112770Z",
     "iopub.status.idle": "2022-12-13T14:52:04.144852Z",
     "shell.execute_reply": "2022-12-13T14:52:04.143431Z"
    },
    "papermill": {
     "duration": 0.055039,
     "end_time": "2022-12-13T14:52:04.149400",
     "exception": false,
     "start_time": "2022-12-13T14:52:04.094361",
     "status": "completed"
    },
    "tags": []
   },
   "outputs": [
    {
     "name": "stdout",
     "output_type": "stream",
     "text": [
      "Train Data\n",
      "NumberOfDependents\n",
      "NumberOfDependents Mean :  0.7572222678605657\n",
      "NumberOfDependents Median :  0.0\n",
      "NumberOfDependents Modus :  0    0.0\n",
      "dtype: float64\n",
      "Monthly Income\n",
      "MonthlyIncome Mean :  6670.221237392844\n",
      "MonthlyIncome Median :  5400.0\n",
      "MonthlyIncome Modus :  0    5000.0\n",
      "dtype: float64\n"
     ]
    }
   ],
   "source": [
    "NumberOfDependents_train = train_data['NumberOfDependents']\n",
    "NumberOfDependents_train_mean = NumberOfDependents_train.mean()\n",
    "NumberOfDependents_train_modus = NumberOfDependents_train.mode()\n",
    "NumberOfDependents_train_median = NumberOfDependents_train.median()\n",
    "\n",
    "MonthlyIncome_train = train_data['MonthlyIncome']\n",
    "MonthlyIncome_train_mean = MonthlyIncome_train.mean()\n",
    "MonthlyIncome_train_modus = MonthlyIncome_train.mode()\n",
    "MonthlyIncome_train_median = MonthlyIncome_train.median()\n",
    "\n",
    "print(\"Train Data\")\n",
    "print(\"NumberOfDependents\")\n",
    "print(\"NumberOfDependents Mean : \", NumberOfDependents_train_mean)\n",
    "print(\"NumberOfDependents Median : \", NumberOfDependents_train_median)\n",
    "print(\"NumberOfDependents Modus : \", NumberOfDependents_train_modus)\n",
    "\n",
    "print(\"Monthly Income\")\n",
    "print(\"MonthlyIncome Mean : \", MonthlyIncome_train_mean)\n",
    "print(\"MonthlyIncome Median : \", MonthlyIncome_train_median)\n",
    "print(\"MonthlyIncome Modus : \", MonthlyIncome_train_modus)"
   ]
  },
  {
   "cell_type": "code",
   "execution_count": 26,
   "id": "dc803916",
   "metadata": {
    "execution": {
     "iopub.execute_input": "2022-12-13T14:52:04.193561Z",
     "iopub.status.busy": "2022-12-13T14:52:04.193134Z",
     "iopub.status.idle": "2022-12-13T14:52:04.218196Z",
     "shell.execute_reply": "2022-12-13T14:52:04.216576Z"
    },
    "papermill": {
     "duration": 0.047496,
     "end_time": "2022-12-13T14:52:04.221282",
     "exception": false,
     "start_time": "2022-12-13T14:52:04.173786",
     "status": "completed"
    },
    "tags": []
   },
   "outputs": [
    {
     "name": "stdout",
     "output_type": "stream",
     "text": [
      "test Data\n",
      "NumberOfDependents\n",
      "NumberOfDependents Mean :  0.7690463909705998\n",
      "NumberOfDependents Median :  0.0\n",
      "NumberOfDependents Modus :  0    0.0\n",
      "dtype: float64\n",
      "Monthly Income\n",
      "MonthlyIncome Mean :  6855.0355896805895\n",
      "MonthlyIncome Median :  5400.0\n",
      "MonthlyIncome Modus :  0    5000.0\n",
      "dtype: float64\n"
     ]
    }
   ],
   "source": [
    "NumberOfDependents_test = test_data['NumberOfDependents']\n",
    "NumberOfDependents_test_mean = NumberOfDependents_test.mean()\n",
    "NumberOfDependents_test_modus = NumberOfDependents_test.mode()\n",
    "NumberOfDependents_test_median = NumberOfDependents_test.median()\n",
    "\n",
    "MonthlyIncome_test = test_data['MonthlyIncome']\n",
    "MonthlyIncome_test_mean = MonthlyIncome_test.mean()\n",
    "MonthlyIncome_test_modus = MonthlyIncome_test.mode()\n",
    "MonthlyIncome_test_median = MonthlyIncome_test.median()\n",
    "\n",
    "print(\"test Data\")\n",
    "print(\"NumberOfDependents\")\n",
    "print(\"NumberOfDependents Mean : \", NumberOfDependents_test_mean)\n",
    "print(\"NumberOfDependents Median : \", NumberOfDependents_test_median)\n",
    "print(\"NumberOfDependents Modus : \", NumberOfDependents_test_modus)\n",
    "\n",
    "print(\"Monthly Income\")\n",
    "print(\"MonthlyIncome Mean : \", MonthlyIncome_test_mean)\n",
    "print(\"MonthlyIncome Median : \", MonthlyIncome_test_median)\n",
    "print(\"MonthlyIncome Modus : \", MonthlyIncome_test_modus)"
   ]
  },
  {
   "cell_type": "code",
   "execution_count": 27,
   "id": "6cfd8ae0",
   "metadata": {
    "execution": {
     "iopub.execute_input": "2022-12-13T14:52:04.261472Z",
     "iopub.status.busy": "2022-12-13T14:52:04.259452Z",
     "iopub.status.idle": "2022-12-13T14:52:04.271224Z",
     "shell.execute_reply": "2022-12-13T14:52:04.269946Z"
    },
    "papermill": {
     "duration": 0.034351,
     "end_time": "2022-12-13T14:52:04.274730",
     "exception": false,
     "start_time": "2022-12-13T14:52:04.240379",
     "status": "completed"
    },
    "tags": []
   },
   "outputs": [],
   "source": [
    "#fill the na value\n",
    "train_data['NumberOfDependents'].fillna(NumberOfDependents_train_mean, inplace=True)\n",
    "train_data['MonthlyIncome'].fillna(MonthlyIncome_train_mean, inplace=True)\n",
    "\n",
    "\n",
    "test_data['NumberOfDependents'].fillna(NumberOfDependents_test_mean,inplace=True)\n",
    "test_data['MonthlyIncome'].fillna(MonthlyIncome_test_mean,inplace=True)"
   ]
  },
  {
   "cell_type": "code",
   "execution_count": 28,
   "id": "d32f0849",
   "metadata": {
    "execution": {
     "iopub.execute_input": "2022-12-13T14:52:04.312360Z",
     "iopub.status.busy": "2022-12-13T14:52:04.311901Z",
     "iopub.status.idle": "2022-12-13T14:52:04.326371Z",
     "shell.execute_reply": "2022-12-13T14:52:04.324977Z"
    },
    "papermill": {
     "duration": 0.036021,
     "end_time": "2022-12-13T14:52:04.329068",
     "exception": false,
     "start_time": "2022-12-13T14:52:04.293047",
     "status": "completed"
    },
    "tags": []
   },
   "outputs": [
    {
     "data": {
      "text/plain": [
       "SeriousDlqin2yrs                        0\n",
       "RevolvingUtilizationOfUnsecuredLines    0\n",
       "age                                     0\n",
       "NumberOfTime30-59DaysPastDueNotWorse    0\n",
       "DebtRatio                               0\n",
       "MonthlyIncome                           0\n",
       "NumberOfOpenCreditLinesAndLoans         0\n",
       "NumberOfTimes90DaysLate                 0\n",
       "NumberRealEstateLoansOrLines            0\n",
       "NumberOfTime60-89DaysPastDueNotWorse    0\n",
       "NumberOfDependents                      0\n",
       "dtype: int64"
      ]
     },
     "execution_count": 28,
     "metadata": {},
     "output_type": "execute_result"
    }
   ],
   "source": [
    "train_data.isnull().sum()"
   ]
  },
  {
   "cell_type": "code",
   "execution_count": 29,
   "id": "18e5f1dc",
   "metadata": {
    "execution": {
     "iopub.execute_input": "2022-12-13T14:52:04.368989Z",
     "iopub.status.busy": "2022-12-13T14:52:04.368576Z",
     "iopub.status.idle": "2022-12-13T14:52:04.382547Z",
     "shell.execute_reply": "2022-12-13T14:52:04.380912Z"
    },
    "papermill": {
     "duration": 0.038851,
     "end_time": "2022-12-13T14:52:04.385438",
     "exception": false,
     "start_time": "2022-12-13T14:52:04.346587",
     "status": "completed"
    },
    "tags": []
   },
   "outputs": [
    {
     "data": {
      "text/plain": [
       "SeriousDlqin2yrs                        101503\n",
       "RevolvingUtilizationOfUnsecuredLines         0\n",
       "age                                          0\n",
       "NumberOfTime30-59DaysPastDueNotWorse         0\n",
       "DebtRatio                                    0\n",
       "MonthlyIncome                                0\n",
       "NumberOfOpenCreditLinesAndLoans              0\n",
       "NumberOfTimes90DaysLate                      0\n",
       "NumberRealEstateLoansOrLines                 0\n",
       "NumberOfTime60-89DaysPastDueNotWorse         0\n",
       "NumberOfDependents                           0\n",
       "dtype: int64"
      ]
     },
     "execution_count": 29,
     "metadata": {},
     "output_type": "execute_result"
    }
   ],
   "source": [
    "test_data.isnull().sum()"
   ]
  },
  {
   "cell_type": "code",
   "execution_count": 30,
   "id": "044e0f3a",
   "metadata": {
    "execution": {
     "iopub.execute_input": "2022-12-13T14:52:04.424004Z",
     "iopub.status.busy": "2022-12-13T14:52:04.423612Z",
     "iopub.status.idle": "2022-12-13T14:52:04.441997Z",
     "shell.execute_reply": "2022-12-13T14:52:04.440477Z"
    },
    "papermill": {
     "duration": 0.042707,
     "end_time": "2022-12-13T14:52:04.446440",
     "exception": false,
     "start_time": "2022-12-13T14:52:04.403733",
     "status": "completed"
    },
    "tags": []
   },
   "outputs": [
    {
     "name": "stdout",
     "output_type": "stream",
     "text": [
      "<class 'pandas.core.frame.DataFrame'>\n",
      "Int64Index: 150000 entries, 1 to 150000\n",
      "Data columns (total 11 columns):\n",
      " #   Column                                Non-Null Count   Dtype  \n",
      "---  ------                                --------------   -----  \n",
      " 0   SeriousDlqin2yrs                      150000 non-null  int64  \n",
      " 1   RevolvingUtilizationOfUnsecuredLines  150000 non-null  float64\n",
      " 2   age                                   150000 non-null  int64  \n",
      " 3   NumberOfTime30-59DaysPastDueNotWorse  150000 non-null  float64\n",
      " 4   DebtRatio                             150000 non-null  float64\n",
      " 5   MonthlyIncome                         150000 non-null  float64\n",
      " 6   NumberOfOpenCreditLinesAndLoans       150000 non-null  int64  \n",
      " 7   NumberOfTimes90DaysLate               150000 non-null  float64\n",
      " 8   NumberRealEstateLoansOrLines          150000 non-null  int64  \n",
      " 9   NumberOfTime60-89DaysPastDueNotWorse  150000 non-null  float64\n",
      " 10  NumberOfDependents                    150000 non-null  float64\n",
      "dtypes: float64(7), int64(4)\n",
      "memory usage: 13.7 MB\n"
     ]
    }
   ],
   "source": [
    "train_data.info()"
   ]
  },
  {
   "cell_type": "code",
   "execution_count": 31,
   "id": "1cb007a1",
   "metadata": {
    "execution": {
     "iopub.execute_input": "2022-12-13T14:52:04.484971Z",
     "iopub.status.busy": "2022-12-13T14:52:04.484175Z",
     "iopub.status.idle": "2022-12-13T14:52:04.502049Z",
     "shell.execute_reply": "2022-12-13T14:52:04.500673Z"
    },
    "papermill": {
     "duration": 0.041096,
     "end_time": "2022-12-13T14:52:04.505575",
     "exception": false,
     "start_time": "2022-12-13T14:52:04.464479",
     "status": "completed"
    },
    "tags": []
   },
   "outputs": [
    {
     "name": "stdout",
     "output_type": "stream",
     "text": [
      "<class 'pandas.core.frame.DataFrame'>\n",
      "Int64Index: 101503 entries, 1 to 101503\n",
      "Data columns (total 11 columns):\n",
      " #   Column                                Non-Null Count   Dtype  \n",
      "---  ------                                --------------   -----  \n",
      " 0   SeriousDlqin2yrs                      0 non-null       float64\n",
      " 1   RevolvingUtilizationOfUnsecuredLines  101503 non-null  float64\n",
      " 2   age                                   101503 non-null  int64  \n",
      " 3   NumberOfTime30-59DaysPastDueNotWorse  101503 non-null  int64  \n",
      " 4   DebtRatio                             101503 non-null  float64\n",
      " 5   MonthlyIncome                         101503 non-null  float64\n",
      " 6   NumberOfOpenCreditLinesAndLoans       101503 non-null  int64  \n",
      " 7   NumberOfTimes90DaysLate               101503 non-null  int64  \n",
      " 8   NumberRealEstateLoansOrLines          101503 non-null  int64  \n",
      " 9   NumberOfTime60-89DaysPastDueNotWorse  101503 non-null  int64  \n",
      " 10  NumberOfDependents                    101503 non-null  float64\n",
      "dtypes: float64(5), int64(6)\n",
      "memory usage: 9.3 MB\n"
     ]
    }
   ],
   "source": [
    "test_data.info()"
   ]
  },
  {
   "cell_type": "code",
   "execution_count": 32,
   "id": "732832d5",
   "metadata": {
    "execution": {
     "iopub.execute_input": "2022-12-13T14:52:04.546008Z",
     "iopub.status.busy": "2022-12-13T14:52:04.545627Z",
     "iopub.status.idle": "2022-12-13T14:52:04.578598Z",
     "shell.execute_reply": "2022-12-13T14:52:04.576738Z"
    },
    "papermill": {
     "duration": 0.056291,
     "end_time": "2022-12-13T14:52:04.581803",
     "exception": false,
     "start_time": "2022-12-13T14:52:04.525512",
     "status": "completed"
    },
    "tags": []
   },
   "outputs": [
    {
     "name": "stdout",
     "output_type": "stream",
     "text": [
      "<class 'pandas.core.frame.DataFrame'>\n",
      "Int64Index: 150000 entries, 1 to 150000\n",
      "Data columns (total 10 columns):\n",
      " #   Column                                Non-Null Count   Dtype  \n",
      "---  ------                                --------------   -----  \n",
      " 0   RevolvingUtilizationOfUnsecuredLines  150000 non-null  float64\n",
      " 1   age                                   150000 non-null  int64  \n",
      " 2   NumberOfTime30-59DaysPastDueNotWorse  150000 non-null  float64\n",
      " 3   DebtRatio                             150000 non-null  float64\n",
      " 4   MonthlyIncome                         150000 non-null  float64\n",
      " 5   NumberOfOpenCreditLinesAndLoans       150000 non-null  int64  \n",
      " 6   NumberOfTimes90DaysLate               150000 non-null  float64\n",
      " 7   NumberRealEstateLoansOrLines          150000 non-null  int64  \n",
      " 8   NumberOfTime60-89DaysPastDueNotWorse  150000 non-null  float64\n",
      " 9   NumberOfDependents                    150000 non-null  float64\n",
      "dtypes: float64(7), int64(3)\n",
      "memory usage: 12.6 MB\n"
     ]
    }
   ],
   "source": [
    "#Coba Buat Model\n",
    "X = train_data.drop(\"SeriousDlqin2yrs\", axis=1)\n",
    "y = train_data['SeriousDlqin2yrs']\n",
    "\n",
    "X.info()"
   ]
  },
  {
   "cell_type": "code",
   "execution_count": 33,
   "id": "53765626",
   "metadata": {
    "execution": {
     "iopub.execute_input": "2022-12-13T14:52:04.621072Z",
     "iopub.status.busy": "2022-12-13T14:52:04.620087Z",
     "iopub.status.idle": "2022-12-13T14:52:04.915164Z",
     "shell.execute_reply": "2022-12-13T14:52:04.913642Z"
    },
    "papermill": {
     "duration": 0.318323,
     "end_time": "2022-12-13T14:52:04.918069",
     "exception": false,
     "start_time": "2022-12-13T14:52:04.599746",
     "status": "completed"
    },
    "tags": []
   },
   "outputs": [],
   "source": [
    "from sklearn.model_selection import train_test_split\n",
    "x_train, x_test, y_train, y_test = train_test_split(X, y, test_size=0.2, random_state=42)"
   ]
  },
  {
   "cell_type": "code",
   "execution_count": 34,
   "id": "1cb02137",
   "metadata": {
    "execution": {
     "iopub.execute_input": "2022-12-13T14:52:04.955417Z",
     "iopub.status.busy": "2022-12-13T14:52:04.954952Z",
     "iopub.status.idle": "2022-12-13T14:52:05.224777Z",
     "shell.execute_reply": "2022-12-13T14:52:05.223502Z"
    },
    "papermill": {
     "duration": 0.292079,
     "end_time": "2022-12-13T14:52:05.228075",
     "exception": false,
     "start_time": "2022-12-13T14:52:04.935996",
     "status": "completed"
    },
    "tags": []
   },
   "outputs": [],
   "source": [
    "from sklearn.ensemble import RandomForestClassifier\n",
    "\n",
    "parameter = {\n",
    "    'n_estimators': [9,27,36],\n",
    "    'max_depth': [3,7,9],\n",
    "    'min_samples_leaf': [2, 4]\n",
    "}\n",
    "\n",
    "rf = RandomForestClassifier()"
   ]
  },
  {
   "cell_type": "code",
   "execution_count": 35,
   "id": "04bda05e",
   "metadata": {
    "execution": {
     "iopub.execute_input": "2022-12-13T14:52:05.265567Z",
     "iopub.status.busy": "2022-12-13T14:52:05.265124Z",
     "iopub.status.idle": "2022-12-13T14:52:05.270912Z",
     "shell.execute_reply": "2022-12-13T14:52:05.269612Z"
    },
    "papermill": {
     "duration": 0.027289,
     "end_time": "2022-12-13T14:52:05.273287",
     "exception": false,
     "start_time": "2022-12-13T14:52:05.245998",
     "status": "completed"
    },
    "tags": []
   },
   "outputs": [],
   "source": [
    "from sklearn.model_selection import RandomizedSearchCV\n",
    "\n",
    "random_forest_search = RandomizedSearchCV(rf, param_distributions=parameter, cv=5)"
   ]
  },
  {
   "cell_type": "code",
   "execution_count": 36,
   "id": "0191f9c9",
   "metadata": {
    "execution": {
     "iopub.execute_input": "2022-12-13T14:52:05.310728Z",
     "iopub.status.busy": "2022-12-13T14:52:05.310309Z",
     "iopub.status.idle": "2022-12-13T14:53:52.007495Z",
     "shell.execute_reply": "2022-12-13T14:53:52.006132Z"
    },
    "papermill": {
     "duration": 106.737014,
     "end_time": "2022-12-13T14:53:52.027619",
     "exception": false,
     "start_time": "2022-12-13T14:52:05.290605",
     "status": "completed"
    },
    "tags": []
   },
   "outputs": [
    {
     "data": {
      "text/plain": [
       "RandomizedSearchCV(cv=5, estimator=RandomForestClassifier(),\n",
       "                   param_distributions={'max_depth': [3, 7, 9],\n",
       "                                        'min_samples_leaf': [2, 4],\n",
       "                                        'n_estimators': [9, 27, 36]})"
      ]
     },
     "execution_count": 36,
     "metadata": {},
     "output_type": "execute_result"
    }
   ],
   "source": [
    "random_forest_search.fit(x_train, y_train)"
   ]
  },
  {
   "cell_type": "code",
   "execution_count": 37,
   "id": "6a6a478d",
   "metadata": {
    "execution": {
     "iopub.execute_input": "2022-12-13T14:53:52.068416Z",
     "iopub.status.busy": "2022-12-13T14:53:52.067113Z",
     "iopub.status.idle": "2022-12-13T14:53:52.074818Z",
     "shell.execute_reply": "2022-12-13T14:53:52.073558Z"
    },
    "papermill": {
     "duration": 0.030481,
     "end_time": "2022-12-13T14:53:52.077544",
     "exception": false,
     "start_time": "2022-12-13T14:53:52.047063",
     "status": "completed"
    },
    "tags": []
   },
   "outputs": [
    {
     "data": {
      "text/plain": [
       "RandomForestClassifier(max_depth=9, min_samples_leaf=2, n_estimators=36)"
      ]
     },
     "execution_count": 37,
     "metadata": {},
     "output_type": "execute_result"
    }
   ],
   "source": [
    "best_estimator_rf = random_forest_search.best_estimator_\n",
    "best_estimator_rf"
   ]
  },
  {
   "cell_type": "code",
   "execution_count": 38,
   "id": "f24469ca",
   "metadata": {
    "execution": {
     "iopub.execute_input": "2022-12-13T14:53:52.114717Z",
     "iopub.status.busy": "2022-12-13T14:53:52.114231Z",
     "iopub.status.idle": "2022-12-13T14:53:52.728666Z",
     "shell.execute_reply": "2022-12-13T14:53:52.727194Z"
    },
    "papermill": {
     "duration": 0.636432,
     "end_time": "2022-12-13T14:53:52.731565",
     "exception": false,
     "start_time": "2022-12-13T14:53:52.095133",
     "status": "completed"
    },
    "tags": []
   },
   "outputs": [
    {
     "name": "stdout",
     "output_type": "stream",
     "text": [
      "training accuracy: 94.31\n",
      "validation accuracy: 93.83\n"
     ]
    }
   ],
   "source": [
    "print(\"training accuracy: {:.2f}\".format(random_forest_search.score(x_train, y_train) * 100))\n",
    "print(\"validation accuracy: {:.2f}\".format(random_forest_search.score(x_test, y_test) * 100))"
   ]
  },
  {
   "cell_type": "code",
   "execution_count": 39,
   "id": "8e3b73ac",
   "metadata": {
    "execution": {
     "iopub.execute_input": "2022-12-13T14:53:52.770985Z",
     "iopub.status.busy": "2022-12-13T14:53:52.770049Z",
     "iopub.status.idle": "2022-12-13T14:53:53.179283Z",
     "shell.execute_reply": "2022-12-13T14:53:53.177793Z"
    },
    "papermill": {
     "duration": 0.433089,
     "end_time": "2022-12-13T14:53:53.182332",
     "exception": false,
     "start_time": "2022-12-13T14:53:52.749243",
     "status": "completed"
    },
    "tags": []
   },
   "outputs": [],
   "source": [
    "x = test_data.drop([\"SeriousDlqin2yrs\"], axis=1)\n",
    "y = random_forest_search.predict_proba(x)[:, 1]\n",
    "ids = x.index.values"
   ]
  },
  {
   "cell_type": "code",
   "execution_count": 40,
   "id": "8d16d35d",
   "metadata": {
    "execution": {
     "iopub.execute_input": "2022-12-13T14:53:53.221000Z",
     "iopub.status.busy": "2022-12-13T14:53:53.220549Z",
     "iopub.status.idle": "2022-12-13T14:53:53.477534Z",
     "shell.execute_reply": "2022-12-13T14:53:53.475605Z"
    },
    "papermill": {
     "duration": 0.279615,
     "end_time": "2022-12-13T14:53:53.480486",
     "exception": false,
     "start_time": "2022-12-13T14:53:53.200871",
     "status": "completed"
    },
    "tags": []
   },
   "outputs": [],
   "source": [
    "predicted = pd.DataFrame({'Id': ids, 'Probability': y})\n",
    "predicted.to_csv(\"submission.csv\", index=False)"
   ]
  },
  {
   "cell_type": "code",
   "execution_count": 41,
   "id": "0a0c05ba",
   "metadata": {
    "execution": {
     "iopub.execute_input": "2022-12-13T14:53:53.518948Z",
     "iopub.status.busy": "2022-12-13T14:53:53.518559Z",
     "iopub.status.idle": "2022-12-13T14:53:53.529646Z",
     "shell.execute_reply": "2022-12-13T14:53:53.528351Z"
    },
    "papermill": {
     "duration": 0.03333,
     "end_time": "2022-12-13T14:53:53.531942",
     "exception": false,
     "start_time": "2022-12-13T14:53:53.498612",
     "status": "completed"
    },
    "tags": []
   },
   "outputs": [
    {
     "data": {
      "text/html": [
       "<div>\n",
       "<style scoped>\n",
       "    .dataframe tbody tr th:only-of-type {\n",
       "        vertical-align: middle;\n",
       "    }\n",
       "\n",
       "    .dataframe tbody tr th {\n",
       "        vertical-align: top;\n",
       "    }\n",
       "\n",
       "    .dataframe thead th {\n",
       "        text-align: right;\n",
       "    }\n",
       "</style>\n",
       "<table border=\"1\" class=\"dataframe\">\n",
       "  <thead>\n",
       "    <tr style=\"text-align: right;\">\n",
       "      <th></th>\n",
       "      <th>Id</th>\n",
       "      <th>Probability</th>\n",
       "    </tr>\n",
       "  </thead>\n",
       "  <tbody>\n",
       "    <tr>\n",
       "      <th>0</th>\n",
       "      <td>1</td>\n",
       "      <td>0.078721</td>\n",
       "    </tr>\n",
       "    <tr>\n",
       "      <th>1</th>\n",
       "      <td>2</td>\n",
       "      <td>0.037446</td>\n",
       "    </tr>\n",
       "    <tr>\n",
       "      <th>2</th>\n",
       "      <td>3</td>\n",
       "      <td>0.015585</td>\n",
       "    </tr>\n",
       "    <tr>\n",
       "      <th>3</th>\n",
       "      <td>4</td>\n",
       "      <td>0.060443</td>\n",
       "    </tr>\n",
       "    <tr>\n",
       "      <th>4</th>\n",
       "      <td>5</td>\n",
       "      <td>0.105601</td>\n",
       "    </tr>\n",
       "  </tbody>\n",
       "</table>\n",
       "</div>"
      ],
      "text/plain": [
       "   Id  Probability\n",
       "0   1     0.078721\n",
       "1   2     0.037446\n",
       "2   3     0.015585\n",
       "3   4     0.060443\n",
       "4   5     0.105601"
      ]
     },
     "execution_count": 41,
     "metadata": {},
     "output_type": "execute_result"
    }
   ],
   "source": [
    "predicted.head()"
   ]
  }
 ],
 "metadata": {
  "kernelspec": {
   "display_name": "Python 3",
   "language": "python",
   "name": "python3"
  },
  "language_info": {
   "codemirror_mode": {
    "name": "ipython",
    "version": 3
   },
   "file_extension": ".py",
   "mimetype": "text/x-python",
   "name": "python",
   "nbconvert_exporter": "python",
   "pygments_lexer": "ipython3",
   "version": "3.7.12"
  },
  "papermill": {
   "default_parameters": {},
   "duration": 129.111521,
   "end_time": "2022-12-13T14:53:54.474854",
   "environment_variables": {},
   "exception": null,
   "input_path": "__notebook__.ipynb",
   "output_path": "__notebook__.ipynb",
   "parameters": {},
   "start_time": "2022-12-13T14:51:45.363333",
   "version": "2.3.4"
  }
 },
 "nbformat": 4,
 "nbformat_minor": 5
}
